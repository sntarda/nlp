{
  "nbformat": 4,
  "nbformat_minor": 0,
  "metadata": {
    "colab": {
      "provenance": [],
      "machine_shape": "hm",
      "gpuType": "V28"
    },
    "kernelspec": {
      "name": "python3",
      "display_name": "Python 3"
    },
    "language_info": {
      "name": "python"
    },
    "accelerator": "TPU"
  },
  "cells": [
    {
      "cell_type": "code",
      "source": [
        "!pip install openpyxl"
      ],
      "metadata": {
        "id": "7gqYDYvh3ekG",
        "colab": {
          "base_uri": "https://localhost:8080/"
        },
        "outputId": "31e7384a-baf6-460f-e553-756b639789e3"
      },
      "execution_count": null,
      "outputs": [
        {
          "output_type": "stream",
          "name": "stdout",
          "text": [
            "Collecting openpyxl\n",
            "  Downloading openpyxl-3.1.2-py2.py3-none-any.whl (249 kB)\n",
            "\u001b[2K     \u001b[90m━━━━━━━━━━━━━━━━━━━━━━━━━━━━━━━━━━━━━━━━\u001b[0m \u001b[32m250.0/250.0 kB\u001b[0m \u001b[31m2.1 MB/s\u001b[0m eta \u001b[36m0:00:00\u001b[0m\n",
            "\u001b[?25hCollecting et-xmlfile (from openpyxl)\n",
            "  Downloading et_xmlfile-1.1.0-py3-none-any.whl (4.7 kB)\n",
            "Installing collected packages: et-xmlfile, openpyxl\n",
            "Successfully installed et-xmlfile-1.1.0 openpyxl-3.1.2\n"
          ]
        }
      ]
    },
    {
      "cell_type": "code",
      "source": [
        "import json\n",
        "from IPython.core.display import display, HTML\n",
        "from google.colab import drive\n",
        "\n",
        "import nltk\n",
        "import re\n",
        "\n",
        "from google.colab import data_table\n",
        "import pandas as pd\n",
        "import openpyxl\n",
        "\n",
        "import numpy as np\n",
        "from keras.preprocessing.text import Tokenizer\n",
        "from keras.preprocessing.sequence import pad_sequences\n",
        "\n",
        "from sklearn.model_selection import train_test_split\n"
      ],
      "metadata": {
        "id": "lTXfVOm6qTDN"
      },
      "execution_count": null,
      "outputs": []
    },
    {
      "cell_type": "code",
      "source": [
        "# wrap text to the viewing window for this notebook\n",
        "def set_css(): display(HTML('''<style>pre {white-space: pre-wrap;}</style>'''))\n",
        "get_ipython().events.register('pre_run_cell', set_css)"
      ],
      "metadata": {
        "id": "smykKdvraPcA"
      },
      "execution_count": null,
      "outputs": []
    },
    {
      "cell_type": "code",
      "source": [
        "drive.mount('/content/drive')"
      ],
      "metadata": {
        "colab": {
          "base_uri": "https://localhost:8080/",
          "height": 34
        },
        "id": "k9T7i8GNPHqG",
        "outputId": "62cc2d51-2eb0-4884-bb01-d9aa946d9328"
      },
      "execution_count": null,
      "outputs": [
        {
          "output_type": "display_data",
          "data": {
            "text/plain": [
              "<IPython.core.display.HTML object>"
            ],
            "text/html": [
              "<style>pre {white-space: pre-wrap;}</style>"
            ]
          },
          "metadata": {}
        },
        {
          "output_type": "stream",
          "name": "stdout",
          "text": [
            "Drive already mounted at /content/drive; to attempt to forcibly remount, call drive.mount(\"/content/drive\", force_remount=True).\n"
          ]
        }
      ]
    },
    {
      "cell_type": "code",
      "source": [
        "# Code 1: Load the data\n",
        "data_path = '/content/drive/MyDrive/Quran_df.xlsx'\n",
        "data = pd.read_excel(data_path)\n",
        "\n",
        "data.head()"
      ],
      "metadata": {
        "colab": {
          "base_uri": "https://localhost:8080/",
          "height": 206
        },
        "id": "bqso1unJ3IhR",
        "outputId": "9ec2117a-f3d6-430f-b756-b3ffbe7fdb01"
      },
      "execution_count": null,
      "outputs": [
        {
          "output_type": "display_data",
          "data": {
            "text/plain": [
              "<IPython.core.display.HTML object>"
            ],
            "text/html": [
              "<style>pre {white-space: pre-wrap;}</style>"
            ]
          },
          "metadata": {}
        },
        {
          "output_type": "execute_result",
          "data": {
            "text/plain": [
              "  Token POS Tag    Location Sura Name\n",
              "0    قد    CERT  T1A1S58J28  المجادلة\n",
              "1   سمع       V  T2A1S58J28  المجادلة\n",
              "2  الله      PN  T3A1S58J28  المجادلة\n",
              "3   قول       N  T4A1S58J28  المجادلة\n",
              "4  التي     REL  T5A1S58J28  المجادلة"
            ],
            "text/html": [
              "\n",
              "  <div id=\"df-cb01109a-0a35-497d-a5e7-3d3990a83c08\" class=\"colab-df-container\">\n",
              "    <div>\n",
              "<style scoped>\n",
              "    .dataframe tbody tr th:only-of-type {\n",
              "        vertical-align: middle;\n",
              "    }\n",
              "\n",
              "    .dataframe tbody tr th {\n",
              "        vertical-align: top;\n",
              "    }\n",
              "\n",
              "    .dataframe thead th {\n",
              "        text-align: right;\n",
              "    }\n",
              "</style>\n",
              "<table border=\"1\" class=\"dataframe\">\n",
              "  <thead>\n",
              "    <tr style=\"text-align: right;\">\n",
              "      <th></th>\n",
              "      <th>Token</th>\n",
              "      <th>POS Tag</th>\n",
              "      <th>Location</th>\n",
              "      <th>Sura Name</th>\n",
              "    </tr>\n",
              "  </thead>\n",
              "  <tbody>\n",
              "    <tr>\n",
              "      <th>0</th>\n",
              "      <td>قد</td>\n",
              "      <td>CERT</td>\n",
              "      <td>T1A1S58J28</td>\n",
              "      <td>المجادلة</td>\n",
              "    </tr>\n",
              "    <tr>\n",
              "      <th>1</th>\n",
              "      <td>سمع</td>\n",
              "      <td>V</td>\n",
              "      <td>T2A1S58J28</td>\n",
              "      <td>المجادلة</td>\n",
              "    </tr>\n",
              "    <tr>\n",
              "      <th>2</th>\n",
              "      <td>الله</td>\n",
              "      <td>PN</td>\n",
              "      <td>T3A1S58J28</td>\n",
              "      <td>المجادلة</td>\n",
              "    </tr>\n",
              "    <tr>\n",
              "      <th>3</th>\n",
              "      <td>قول</td>\n",
              "      <td>N</td>\n",
              "      <td>T4A1S58J28</td>\n",
              "      <td>المجادلة</td>\n",
              "    </tr>\n",
              "    <tr>\n",
              "      <th>4</th>\n",
              "      <td>التي</td>\n",
              "      <td>REL</td>\n",
              "      <td>T5A1S58J28</td>\n",
              "      <td>المجادلة</td>\n",
              "    </tr>\n",
              "  </tbody>\n",
              "</table>\n",
              "</div>\n",
              "    <div class=\"colab-df-buttons\">\n",
              "\n",
              "  <div class=\"colab-df-container\">\n",
              "    <button class=\"colab-df-convert\" onclick=\"convertToInteractive('df-cb01109a-0a35-497d-a5e7-3d3990a83c08')\"\n",
              "            title=\"Convert this dataframe to an interactive table.\"\n",
              "            style=\"display:none;\">\n",
              "\n",
              "  <svg xmlns=\"http://www.w3.org/2000/svg\" height=\"24px\" viewBox=\"0 -960 960 960\">\n",
              "    <path d=\"M120-120v-720h720v720H120Zm60-500h600v-160H180v160Zm220 220h160v-160H400v160Zm0 220h160v-160H400v160ZM180-400h160v-160H180v160Zm440 0h160v-160H620v160ZM180-180h160v-160H180v160Zm440 0h160v-160H620v160Z\"/>\n",
              "  </svg>\n",
              "    </button>\n",
              "\n",
              "  <style>\n",
              "    .colab-df-container {\n",
              "      display:flex;\n",
              "      gap: 12px;\n",
              "    }\n",
              "\n",
              "    .colab-df-convert {\n",
              "      background-color: #E8F0FE;\n",
              "      border: none;\n",
              "      border-radius: 50%;\n",
              "      cursor: pointer;\n",
              "      display: none;\n",
              "      fill: #1967D2;\n",
              "      height: 32px;\n",
              "      padding: 0 0 0 0;\n",
              "      width: 32px;\n",
              "    }\n",
              "\n",
              "    .colab-df-convert:hover {\n",
              "      background-color: #E2EBFA;\n",
              "      box-shadow: 0px 1px 2px rgba(60, 64, 67, 0.3), 0px 1px 3px 1px rgba(60, 64, 67, 0.15);\n",
              "      fill: #174EA6;\n",
              "    }\n",
              "\n",
              "    .colab-df-buttons div {\n",
              "      margin-bottom: 4px;\n",
              "    }\n",
              "\n",
              "    [theme=dark] .colab-df-convert {\n",
              "      background-color: #3B4455;\n",
              "      fill: #D2E3FC;\n",
              "    }\n",
              "\n",
              "    [theme=dark] .colab-df-convert:hover {\n",
              "      background-color: #434B5C;\n",
              "      box-shadow: 0px 1px 3px 1px rgba(0, 0, 0, 0.15);\n",
              "      filter: drop-shadow(0px 1px 2px rgba(0, 0, 0, 0.3));\n",
              "      fill: #FFFFFF;\n",
              "    }\n",
              "  </style>\n",
              "\n",
              "    <script>\n",
              "      const buttonEl =\n",
              "        document.querySelector('#df-cb01109a-0a35-497d-a5e7-3d3990a83c08 button.colab-df-convert');\n",
              "      buttonEl.style.display =\n",
              "        google.colab.kernel.accessAllowed ? 'block' : 'none';\n",
              "\n",
              "      async function convertToInteractive(key) {\n",
              "        const element = document.querySelector('#df-cb01109a-0a35-497d-a5e7-3d3990a83c08');\n",
              "        const dataTable =\n",
              "          await google.colab.kernel.invokeFunction('convertToInteractive',\n",
              "                                                    [key], {});\n",
              "        if (!dataTable) return;\n",
              "\n",
              "        const docLinkHtml = 'Like what you see? Visit the ' +\n",
              "          '<a target=\"_blank\" href=https://colab.research.google.com/notebooks/data_table.ipynb>data table notebook</a>'\n",
              "          + ' to learn more about interactive tables.';\n",
              "        element.innerHTML = '';\n",
              "        dataTable['output_type'] = 'display_data';\n",
              "        await google.colab.output.renderOutput(dataTable, element);\n",
              "        const docLink = document.createElement('div');\n",
              "        docLink.innerHTML = docLinkHtml;\n",
              "        element.appendChild(docLink);\n",
              "      }\n",
              "    </script>\n",
              "  </div>\n",
              "\n",
              "\n",
              "<div id=\"df-aaf5a792-6a33-40e3-bc23-e74dc091c5e7\">\n",
              "  <button class=\"colab-df-quickchart\" onclick=\"quickchart('df-aaf5a792-6a33-40e3-bc23-e74dc091c5e7')\"\n",
              "            title=\"Suggest charts\"\n",
              "            style=\"display:none;\">\n",
              "\n",
              "<svg xmlns=\"http://www.w3.org/2000/svg\" height=\"24px\"viewBox=\"0 0 24 24\"\n",
              "     width=\"24px\">\n",
              "    <g>\n",
              "        <path d=\"M19 3H5c-1.1 0-2 .9-2 2v14c0 1.1.9 2 2 2h14c1.1 0 2-.9 2-2V5c0-1.1-.9-2-2-2zM9 17H7v-7h2v7zm4 0h-2V7h2v10zm4 0h-2v-4h2v4z\"/>\n",
              "    </g>\n",
              "</svg>\n",
              "  </button>\n",
              "\n",
              "<style>\n",
              "  .colab-df-quickchart {\n",
              "      --bg-color: #E8F0FE;\n",
              "      --fill-color: #1967D2;\n",
              "      --hover-bg-color: #E2EBFA;\n",
              "      --hover-fill-color: #174EA6;\n",
              "      --disabled-fill-color: #AAA;\n",
              "      --disabled-bg-color: #DDD;\n",
              "  }\n",
              "\n",
              "  [theme=dark] .colab-df-quickchart {\n",
              "      --bg-color: #3B4455;\n",
              "      --fill-color: #D2E3FC;\n",
              "      --hover-bg-color: #434B5C;\n",
              "      --hover-fill-color: #FFFFFF;\n",
              "      --disabled-bg-color: #3B4455;\n",
              "      --disabled-fill-color: #666;\n",
              "  }\n",
              "\n",
              "  .colab-df-quickchart {\n",
              "    background-color: var(--bg-color);\n",
              "    border: none;\n",
              "    border-radius: 50%;\n",
              "    cursor: pointer;\n",
              "    display: none;\n",
              "    fill: var(--fill-color);\n",
              "    height: 32px;\n",
              "    padding: 0;\n",
              "    width: 32px;\n",
              "  }\n",
              "\n",
              "  .colab-df-quickchart:hover {\n",
              "    background-color: var(--hover-bg-color);\n",
              "    box-shadow: 0 1px 2px rgba(60, 64, 67, 0.3), 0 1px 3px 1px rgba(60, 64, 67, 0.15);\n",
              "    fill: var(--button-hover-fill-color);\n",
              "  }\n",
              "\n",
              "  .colab-df-quickchart-complete:disabled,\n",
              "  .colab-df-quickchart-complete:disabled:hover {\n",
              "    background-color: var(--disabled-bg-color);\n",
              "    fill: var(--disabled-fill-color);\n",
              "    box-shadow: none;\n",
              "  }\n",
              "\n",
              "  .colab-df-spinner {\n",
              "    border: 2px solid var(--fill-color);\n",
              "    border-color: transparent;\n",
              "    border-bottom-color: var(--fill-color);\n",
              "    animation:\n",
              "      spin 1s steps(1) infinite;\n",
              "  }\n",
              "\n",
              "  @keyframes spin {\n",
              "    0% {\n",
              "      border-color: transparent;\n",
              "      border-bottom-color: var(--fill-color);\n",
              "      border-left-color: var(--fill-color);\n",
              "    }\n",
              "    20% {\n",
              "      border-color: transparent;\n",
              "      border-left-color: var(--fill-color);\n",
              "      border-top-color: var(--fill-color);\n",
              "    }\n",
              "    30% {\n",
              "      border-color: transparent;\n",
              "      border-left-color: var(--fill-color);\n",
              "      border-top-color: var(--fill-color);\n",
              "      border-right-color: var(--fill-color);\n",
              "    }\n",
              "    40% {\n",
              "      border-color: transparent;\n",
              "      border-right-color: var(--fill-color);\n",
              "      border-top-color: var(--fill-color);\n",
              "    }\n",
              "    60% {\n",
              "      border-color: transparent;\n",
              "      border-right-color: var(--fill-color);\n",
              "    }\n",
              "    80% {\n",
              "      border-color: transparent;\n",
              "      border-right-color: var(--fill-color);\n",
              "      border-bottom-color: var(--fill-color);\n",
              "    }\n",
              "    90% {\n",
              "      border-color: transparent;\n",
              "      border-bottom-color: var(--fill-color);\n",
              "    }\n",
              "  }\n",
              "</style>\n",
              "\n",
              "  <script>\n",
              "    async function quickchart(key) {\n",
              "      const quickchartButtonEl =\n",
              "        document.querySelector('#' + key + ' button');\n",
              "      quickchartButtonEl.disabled = true;  // To prevent multiple clicks.\n",
              "      quickchartButtonEl.classList.add('colab-df-spinner');\n",
              "      try {\n",
              "        const charts = await google.colab.kernel.invokeFunction(\n",
              "            'suggestCharts', [key], {});\n",
              "      } catch (error) {\n",
              "        console.error('Error during call to suggestCharts:', error);\n",
              "      }\n",
              "      quickchartButtonEl.classList.remove('colab-df-spinner');\n",
              "      quickchartButtonEl.classList.add('colab-df-quickchart-complete');\n",
              "    }\n",
              "    (() => {\n",
              "      let quickchartButtonEl =\n",
              "        document.querySelector('#df-aaf5a792-6a33-40e3-bc23-e74dc091c5e7 button');\n",
              "      quickchartButtonEl.style.display =\n",
              "        google.colab.kernel.accessAllowed ? 'block' : 'none';\n",
              "    })();\n",
              "  </script>\n",
              "</div>\n",
              "\n",
              "    </div>\n",
              "  </div>\n"
            ],
            "application/vnd.google.colaboratory.intrinsic+json": {
              "type": "dataframe",
              "variable_name": "data",
              "summary": "{\n  \"name\": \"data\",\n  \"rows\": 7627,\n  \"fields\": [\n    {\n      \"column\": \"Token\",\n      \"properties\": {\n        \"dtype\": \"category\",\n        \"num_unique_values\": 3274,\n        \"samples\": [\n          \"\\u0627\\u0644\\u0631\\u062d\\u0645\\u0646\",\n          \"\\u062a\\u062c\\u0632\\u0649\",\n          \"\\u0627\\u0644\\u0643\\u0628\\u0631\\u0649\"\n        ],\n        \"semantic_type\": \"\",\n        \"description\": \"\"\n      }\n    },\n    {\n      \"column\": \"POS Tag\",\n      \"properties\": {\n        \"dtype\": \"category\",\n        \"num_unique_values\": 199,\n        \"samples\": [\n          \"RSLT+DEM\",\n          \"RES\",\n          \"VOC+N+PRON\"\n        ],\n        \"semantic_type\": \"\",\n        \"description\": \"\"\n      }\n    },\n    {\n      \"column\": \"Location\",\n      \"properties\": {\n        \"dtype\": \"string\",\n        \"num_unique_values\": 7627,\n        \"samples\": [\n          \"T7A10S59J28\",\n          \"T9A8S64J28\",\n          \"T10A17S72J29\"\n        ],\n        \"semantic_type\": \"\",\n        \"description\": \"\"\n      }\n    },\n    {\n      \"column\": \"Sura Name\",\n      \"properties\": {\n        \"dtype\": \"category\",\n        \"num_unique_values\": 57,\n        \"samples\": [\n          \"\\u0627\\u0644\\u0645\\u062c\\u0627\\u062f\\u0644\\u0629\",\n          \"\\u0627\\u0644\\u0645\\u0646\\u0627\\u0641\\u0642\\u0648\\u0646\",\n          \"\\u0627\\u0644\\u063a\\u0627\\u0634\\u064a\\u0629\"\n        ],\n        \"semantic_type\": \"\",\n        \"description\": \"\"\n      }\n    }\n  ]\n}"
            }
          },
          "metadata": {},
          "execution_count": 4
        }
      ]
    },
    {
      "cell_type": "code",
      "source": [
        "# Code 2: Mapping tokens to their corresponding location\n",
        "\n",
        "def build_token_location_dict(df):\n",
        "    token_location_dict = {row['Token']: row['Location'] for index, row in df.iterrows()}\n",
        "    return token_location_dict\n",
        "token_location_dict = build_token_location_dict(data)\n",
        "list(token_location_dict.items())[:5]"
      ],
      "metadata": {
        "colab": {
          "base_uri": "https://localhost:8080/",
          "height": 104
        },
        "id": "LAKZ6_7x8EHH",
        "outputId": "4227a94e-f165-47d2-b31e-c5d27e563d5c"
      },
      "execution_count": null,
      "outputs": [
        {
          "output_type": "display_data",
          "data": {
            "text/plain": [
              "<IPython.core.display.HTML object>"
            ],
            "text/html": [
              "<style>pre {white-space: pre-wrap;}</style>"
            ]
          },
          "metadata": {}
        },
        {
          "output_type": "execute_result",
          "data": {
            "text/plain": [
              "[('قد', 'T1A9S91J30'),\n",
              " ('سمع', 'T2A1S58J28'),\n",
              " ('الله', 'T1A2S112J30'),\n",
              " ('قول', 'T4A25S74J29'),\n",
              " ('التي', 'T1A7S104J30')]"
            ]
          },
          "metadata": {},
          "execution_count": 5
        }
      ]
    },
    {
      "cell_type": "code",
      "source": [
        "# Code 3: Encoding the Sura name and ppending it as a tail to the token location.\n",
        "\n",
        "def append_sura_code(df):\n",
        "    # Generate a dictionary to map 'Sura Name' to a unique code (if not provided)\n",
        "    sura_to_code = {sura: idx + 1 for idx, sura in enumerate(df['Sura Name'].unique())}\n",
        "\n",
        "    # Apply the mapping to 'Location'\n",
        "    df['Location'] = df['Sura Name'].map(sura_to_code).astype(str).radd('N').radd(df['Location'])\n",
        "\n",
        "    # Output the updated DataFrame and the mapping dictionary for reference\n",
        "    print(df.head())\n",
        "    print('\\nSura Codes Dictionary:', sura_to_code)\n",
        "\n",
        "# Call the function\n",
        "append_sura_code(data)\n"
      ],
      "metadata": {
        "colab": {
          "base_uri": "https://localhost:8080/",
          "height": 208
        },
        "id": "6n-pzpNuXD3r",
        "outputId": "e35e6a9e-cc62-4b78-d71f-44cfefec26e9"
      },
      "execution_count": null,
      "outputs": [
        {
          "output_type": "display_data",
          "data": {
            "text/plain": [
              "<IPython.core.display.HTML object>"
            ],
            "text/html": [
              "<style>pre {white-space: pre-wrap;}</style>"
            ]
          },
          "metadata": {}
        },
        {
          "output_type": "stream",
          "name": "stdout",
          "text": [
            "  Token POS Tag        Location Sura Name\n",
            "0    قد    CERT  T1A1S58J28N1N1  المجادلة\n",
            "1   سمع       V  T2A1S58J28N1N1  المجادلة\n",
            "2  الله      PN  T3A1S58J28N1N1  المجادلة\n",
            "3   قول       N  T4A1S58J28N1N1  المجادلة\n",
            "4  التي     REL  T5A1S58J28N1N1  المجادلة\n",
            "\n",
            "Sura Codes Dictionary: {'المجادلة': 1, 'الحشر': 2, 'الممتحنة': 3, 'الصف': 4, 'الجمعة': 5, 'المنافقون': 6, 'التغابن': 7, 'الطلاق': 8, 'التحريم': 9, 'الملك': 10, 'القلم': 11, 'الحاقة': 12, 'المعارج': 13, 'نوح': 14, 'الجن': 15, 'المزمل': 16, 'المدثر': 17, 'القيامة': 18, 'الإنسان': 19, 'المرسلات': 20, 'النبأ': 21, 'النازعات': 22, 'عبس': 23, 'التكوير': 24, 'الانفطار': 25, 'المطففين': 26, 'الانشقاق': 27, 'البروج': 28, 'الطارق': 29, 'الأعلى': 30, 'الغاشية': 31, 'الفجر': 32, 'البلد': 33, 'الشمس': 34, 'الليل': 35, 'الضحى': 36, 'الشرح': 37, 'التين': 38, 'العلق': 39, 'القدر': 40, 'البينة': 41, 'الزلزلة': 42, 'العاديات': 43, 'القارعة': 44, 'التكاثر': 45, 'العصر': 46, 'الهمزة': 47, 'الفيل': 48, 'قريش': 49, 'الماعون': 50, 'الكوثر': 51, 'الكافرون': 52, 'النصر': 53, 'المسد': 54, 'الإخلاص': 55, 'الفلق': 56, 'الناس': 57}\n"
          ]
        }
      ]
    },
    {
      "cell_type": "code",
      "source": [
        "#### This is the same as the previous code by encoding the sura name with a rondom code\n",
        "\"\"\"\n",
        "import pandas as pd\n",
        "def map_sura_names_to_codes(df, sura_to_code):\n",
        "    df['Location'] = df.apply(lambda row: f\"{row['Location']}N{sura_to_code[row['Sura Name']]}\", axis=1)\n",
        "    return df\n",
        "    \"\"\"\n",
        "\n",
        "#sura_codes_dict = data['Sura Name'].value_counts().to_dict()\n",
        "\n",
        "#print(sura_codes_dict)"
      ],
      "metadata": {
        "id": "sb-pm8B6XcC1",
        "colab": {
          "base_uri": "https://localhost:8080/",
          "height": 53
        },
        "outputId": "a7591b87-55bd-47a0-c6a1-53383d14f3e3"
      },
      "execution_count": null,
      "outputs": [
        {
          "output_type": "display_data",
          "data": {
            "text/plain": [
              "<IPython.core.display.HTML object>"
            ],
            "text/html": [
              "<style>pre {white-space: pre-wrap;}</style>"
            ]
          },
          "metadata": {}
        },
        {
          "output_type": "execute_result",
          "data": {
            "text/plain": [
              "'\\nimport pandas as pd\\ndef map_sura_names_to_codes(df, sura_to_code):\\n    df[\\'Location\\'] = df.apply(lambda row: f\"{row[\\'Location\\']}N{sura_to_code[row[\\'Sura Name\\']]}\", axis=1)\\n    return df\\n    '"
            ],
            "application/vnd.google.colaboratory.intrinsic+json": {
              "type": "string"
            }
          },
          "metadata": {},
          "execution_count": 8
        }
      ]
    },
    {
      "cell_type": "code",
      "source": [
        "# Code 4: Saving the updated DataFrame then loading it\n",
        "\n",
        "data.to_excel(\"/content/drive/MyDrive/updated_Quran_df.xlsx\", index=False)\n",
        "\n",
        "# Load the updated df\n",
        "df = pd.read_excel('/content/drive/MyDrive/updated_Quran_df.xlsx')\n",
        "df.head()"
      ],
      "metadata": {
        "colab": {
          "base_uri": "https://localhost:8080/",
          "height": 206
        },
        "id": "edpcxGy09UqH",
        "outputId": "8e75fc84-c07d-4b2c-ae95-c21338ecb121"
      },
      "execution_count": null,
      "outputs": [
        {
          "output_type": "display_data",
          "data": {
            "text/plain": [
              "<IPython.core.display.HTML object>"
            ],
            "text/html": [
              "<style>pre {white-space: pre-wrap;}</style>"
            ]
          },
          "metadata": {}
        },
        {
          "output_type": "execute_result",
          "data": {
            "text/plain": [
              "  Token POS Tag      Location Sura Name\n",
              "0    قد    CERT  T1A1S58J28N1  المجادلة\n",
              "1   سمع       V  T2A1S58J28N1  المجادلة\n",
              "2  الله      PN  T3A1S58J28N1  المجادلة\n",
              "3   قول       N  T4A1S58J28N1  المجادلة\n",
              "4  التي     REL  T5A1S58J28N1  المجادلة"
            ],
            "text/html": [
              "\n",
              "  <div id=\"df-5ea52267-a42c-4466-a12d-2e04009f6242\" class=\"colab-df-container\">\n",
              "    <div>\n",
              "<style scoped>\n",
              "    .dataframe tbody tr th:only-of-type {\n",
              "        vertical-align: middle;\n",
              "    }\n",
              "\n",
              "    .dataframe tbody tr th {\n",
              "        vertical-align: top;\n",
              "    }\n",
              "\n",
              "    .dataframe thead th {\n",
              "        text-align: right;\n",
              "    }\n",
              "</style>\n",
              "<table border=\"1\" class=\"dataframe\">\n",
              "  <thead>\n",
              "    <tr style=\"text-align: right;\">\n",
              "      <th></th>\n",
              "      <th>Token</th>\n",
              "      <th>POS Tag</th>\n",
              "      <th>Location</th>\n",
              "      <th>Sura Name</th>\n",
              "    </tr>\n",
              "  </thead>\n",
              "  <tbody>\n",
              "    <tr>\n",
              "      <th>0</th>\n",
              "      <td>قد</td>\n",
              "      <td>CERT</td>\n",
              "      <td>T1A1S58J28N1</td>\n",
              "      <td>المجادلة</td>\n",
              "    </tr>\n",
              "    <tr>\n",
              "      <th>1</th>\n",
              "      <td>سمع</td>\n",
              "      <td>V</td>\n",
              "      <td>T2A1S58J28N1</td>\n",
              "      <td>المجادلة</td>\n",
              "    </tr>\n",
              "    <tr>\n",
              "      <th>2</th>\n",
              "      <td>الله</td>\n",
              "      <td>PN</td>\n",
              "      <td>T3A1S58J28N1</td>\n",
              "      <td>المجادلة</td>\n",
              "    </tr>\n",
              "    <tr>\n",
              "      <th>3</th>\n",
              "      <td>قول</td>\n",
              "      <td>N</td>\n",
              "      <td>T4A1S58J28N1</td>\n",
              "      <td>المجادلة</td>\n",
              "    </tr>\n",
              "    <tr>\n",
              "      <th>4</th>\n",
              "      <td>التي</td>\n",
              "      <td>REL</td>\n",
              "      <td>T5A1S58J28N1</td>\n",
              "      <td>المجادلة</td>\n",
              "    </tr>\n",
              "  </tbody>\n",
              "</table>\n",
              "</div>\n",
              "    <div class=\"colab-df-buttons\">\n",
              "\n",
              "  <div class=\"colab-df-container\">\n",
              "    <button class=\"colab-df-convert\" onclick=\"convertToInteractive('df-5ea52267-a42c-4466-a12d-2e04009f6242')\"\n",
              "            title=\"Convert this dataframe to an interactive table.\"\n",
              "            style=\"display:none;\">\n",
              "\n",
              "  <svg xmlns=\"http://www.w3.org/2000/svg\" height=\"24px\" viewBox=\"0 -960 960 960\">\n",
              "    <path d=\"M120-120v-720h720v720H120Zm60-500h600v-160H180v160Zm220 220h160v-160H400v160Zm0 220h160v-160H400v160ZM180-400h160v-160H180v160Zm440 0h160v-160H620v160ZM180-180h160v-160H180v160Zm440 0h160v-160H620v160Z\"/>\n",
              "  </svg>\n",
              "    </button>\n",
              "\n",
              "  <style>\n",
              "    .colab-df-container {\n",
              "      display:flex;\n",
              "      gap: 12px;\n",
              "    }\n",
              "\n",
              "    .colab-df-convert {\n",
              "      background-color: #E8F0FE;\n",
              "      border: none;\n",
              "      border-radius: 50%;\n",
              "      cursor: pointer;\n",
              "      display: none;\n",
              "      fill: #1967D2;\n",
              "      height: 32px;\n",
              "      padding: 0 0 0 0;\n",
              "      width: 32px;\n",
              "    }\n",
              "\n",
              "    .colab-df-convert:hover {\n",
              "      background-color: #E2EBFA;\n",
              "      box-shadow: 0px 1px 2px rgba(60, 64, 67, 0.3), 0px 1px 3px 1px rgba(60, 64, 67, 0.15);\n",
              "      fill: #174EA6;\n",
              "    }\n",
              "\n",
              "    .colab-df-buttons div {\n",
              "      margin-bottom: 4px;\n",
              "    }\n",
              "\n",
              "    [theme=dark] .colab-df-convert {\n",
              "      background-color: #3B4455;\n",
              "      fill: #D2E3FC;\n",
              "    }\n",
              "\n",
              "    [theme=dark] .colab-df-convert:hover {\n",
              "      background-color: #434B5C;\n",
              "      box-shadow: 0px 1px 3px 1px rgba(0, 0, 0, 0.15);\n",
              "      filter: drop-shadow(0px 1px 2px rgba(0, 0, 0, 0.3));\n",
              "      fill: #FFFFFF;\n",
              "    }\n",
              "  </style>\n",
              "\n",
              "    <script>\n",
              "      const buttonEl =\n",
              "        document.querySelector('#df-5ea52267-a42c-4466-a12d-2e04009f6242 button.colab-df-convert');\n",
              "      buttonEl.style.display =\n",
              "        google.colab.kernel.accessAllowed ? 'block' : 'none';\n",
              "\n",
              "      async function convertToInteractive(key) {\n",
              "        const element = document.querySelector('#df-5ea52267-a42c-4466-a12d-2e04009f6242');\n",
              "        const dataTable =\n",
              "          await google.colab.kernel.invokeFunction('convertToInteractive',\n",
              "                                                    [key], {});\n",
              "        if (!dataTable) return;\n",
              "\n",
              "        const docLinkHtml = 'Like what you see? Visit the ' +\n",
              "          '<a target=\"_blank\" href=https://colab.research.google.com/notebooks/data_table.ipynb>data table notebook</a>'\n",
              "          + ' to learn more about interactive tables.';\n",
              "        element.innerHTML = '';\n",
              "        dataTable['output_type'] = 'display_data';\n",
              "        await google.colab.output.renderOutput(dataTable, element);\n",
              "        const docLink = document.createElement('div');\n",
              "        docLink.innerHTML = docLinkHtml;\n",
              "        element.appendChild(docLink);\n",
              "      }\n",
              "    </script>\n",
              "  </div>\n",
              "\n",
              "\n",
              "<div id=\"df-c554aa19-6aa8-4fd0-b71a-fbcbef6802bf\">\n",
              "  <button class=\"colab-df-quickchart\" onclick=\"quickchart('df-c554aa19-6aa8-4fd0-b71a-fbcbef6802bf')\"\n",
              "            title=\"Suggest charts\"\n",
              "            style=\"display:none;\">\n",
              "\n",
              "<svg xmlns=\"http://www.w3.org/2000/svg\" height=\"24px\"viewBox=\"0 0 24 24\"\n",
              "     width=\"24px\">\n",
              "    <g>\n",
              "        <path d=\"M19 3H5c-1.1 0-2 .9-2 2v14c0 1.1.9 2 2 2h14c1.1 0 2-.9 2-2V5c0-1.1-.9-2-2-2zM9 17H7v-7h2v7zm4 0h-2V7h2v10zm4 0h-2v-4h2v4z\"/>\n",
              "    </g>\n",
              "</svg>\n",
              "  </button>\n",
              "\n",
              "<style>\n",
              "  .colab-df-quickchart {\n",
              "      --bg-color: #E8F0FE;\n",
              "      --fill-color: #1967D2;\n",
              "      --hover-bg-color: #E2EBFA;\n",
              "      --hover-fill-color: #174EA6;\n",
              "      --disabled-fill-color: #AAA;\n",
              "      --disabled-bg-color: #DDD;\n",
              "  }\n",
              "\n",
              "  [theme=dark] .colab-df-quickchart {\n",
              "      --bg-color: #3B4455;\n",
              "      --fill-color: #D2E3FC;\n",
              "      --hover-bg-color: #434B5C;\n",
              "      --hover-fill-color: #FFFFFF;\n",
              "      --disabled-bg-color: #3B4455;\n",
              "      --disabled-fill-color: #666;\n",
              "  }\n",
              "\n",
              "  .colab-df-quickchart {\n",
              "    background-color: var(--bg-color);\n",
              "    border: none;\n",
              "    border-radius: 50%;\n",
              "    cursor: pointer;\n",
              "    display: none;\n",
              "    fill: var(--fill-color);\n",
              "    height: 32px;\n",
              "    padding: 0;\n",
              "    width: 32px;\n",
              "  }\n",
              "\n",
              "  .colab-df-quickchart:hover {\n",
              "    background-color: var(--hover-bg-color);\n",
              "    box-shadow: 0 1px 2px rgba(60, 64, 67, 0.3), 0 1px 3px 1px rgba(60, 64, 67, 0.15);\n",
              "    fill: var(--button-hover-fill-color);\n",
              "  }\n",
              "\n",
              "  .colab-df-quickchart-complete:disabled,\n",
              "  .colab-df-quickchart-complete:disabled:hover {\n",
              "    background-color: var(--disabled-bg-color);\n",
              "    fill: var(--disabled-fill-color);\n",
              "    box-shadow: none;\n",
              "  }\n",
              "\n",
              "  .colab-df-spinner {\n",
              "    border: 2px solid var(--fill-color);\n",
              "    border-color: transparent;\n",
              "    border-bottom-color: var(--fill-color);\n",
              "    animation:\n",
              "      spin 1s steps(1) infinite;\n",
              "  }\n",
              "\n",
              "  @keyframes spin {\n",
              "    0% {\n",
              "      border-color: transparent;\n",
              "      border-bottom-color: var(--fill-color);\n",
              "      border-left-color: var(--fill-color);\n",
              "    }\n",
              "    20% {\n",
              "      border-color: transparent;\n",
              "      border-left-color: var(--fill-color);\n",
              "      border-top-color: var(--fill-color);\n",
              "    }\n",
              "    30% {\n",
              "      border-color: transparent;\n",
              "      border-left-color: var(--fill-color);\n",
              "      border-top-color: var(--fill-color);\n",
              "      border-right-color: var(--fill-color);\n",
              "    }\n",
              "    40% {\n",
              "      border-color: transparent;\n",
              "      border-right-color: var(--fill-color);\n",
              "      border-top-color: var(--fill-color);\n",
              "    }\n",
              "    60% {\n",
              "      border-color: transparent;\n",
              "      border-right-color: var(--fill-color);\n",
              "    }\n",
              "    80% {\n",
              "      border-color: transparent;\n",
              "      border-right-color: var(--fill-color);\n",
              "      border-bottom-color: var(--fill-color);\n",
              "    }\n",
              "    90% {\n",
              "      border-color: transparent;\n",
              "      border-bottom-color: var(--fill-color);\n",
              "    }\n",
              "  }\n",
              "</style>\n",
              "\n",
              "  <script>\n",
              "    async function quickchart(key) {\n",
              "      const quickchartButtonEl =\n",
              "        document.querySelector('#' + key + ' button');\n",
              "      quickchartButtonEl.disabled = true;  // To prevent multiple clicks.\n",
              "      quickchartButtonEl.classList.add('colab-df-spinner');\n",
              "      try {\n",
              "        const charts = await google.colab.kernel.invokeFunction(\n",
              "            'suggestCharts', [key], {});\n",
              "      } catch (error) {\n",
              "        console.error('Error during call to suggestCharts:', error);\n",
              "      }\n",
              "      quickchartButtonEl.classList.remove('colab-df-spinner');\n",
              "      quickchartButtonEl.classList.add('colab-df-quickchart-complete');\n",
              "    }\n",
              "    (() => {\n",
              "      let quickchartButtonEl =\n",
              "        document.querySelector('#df-c554aa19-6aa8-4fd0-b71a-fbcbef6802bf button');\n",
              "      quickchartButtonEl.style.display =\n",
              "        google.colab.kernel.accessAllowed ? 'block' : 'none';\n",
              "    })();\n",
              "  </script>\n",
              "</div>\n",
              "\n",
              "    </div>\n",
              "  </div>\n"
            ],
            "application/vnd.google.colaboratory.intrinsic+json": {
              "type": "dataframe",
              "variable_name": "df",
              "summary": "{\n  \"name\": \"df\",\n  \"rows\": 7627,\n  \"fields\": [\n    {\n      \"column\": \"Token\",\n      \"properties\": {\n        \"dtype\": \"category\",\n        \"num_unique_values\": 3274,\n        \"samples\": [\n          \"\\u0627\\u0644\\u0631\\u062d\\u0645\\u0646\",\n          \"\\u062a\\u062c\\u0632\\u0649\",\n          \"\\u0627\\u0644\\u0643\\u0628\\u0631\\u0649\"\n        ],\n        \"semantic_type\": \"\",\n        \"description\": \"\"\n      }\n    },\n    {\n      \"column\": \"POS Tag\",\n      \"properties\": {\n        \"dtype\": \"category\",\n        \"num_unique_values\": 199,\n        \"samples\": [\n          \"RSLT+DEM\",\n          \"RES\",\n          \"VOC+N+PRON\"\n        ],\n        \"semantic_type\": \"\",\n        \"description\": \"\"\n      }\n    },\n    {\n      \"column\": \"Location\",\n      \"properties\": {\n        \"dtype\": \"string\",\n        \"num_unique_values\": 7627,\n        \"samples\": [\n          \"T7A10S59J28N2\",\n          \"T9A8S64J28N7\",\n          \"T10A17S72J29N15\"\n        ],\n        \"semantic_type\": \"\",\n        \"description\": \"\"\n      }\n    },\n    {\n      \"column\": \"Sura Name\",\n      \"properties\": {\n        \"dtype\": \"category\",\n        \"num_unique_values\": 57,\n        \"samples\": [\n          \"\\u0627\\u0644\\u0645\\u062c\\u0627\\u062f\\u0644\\u0629\",\n          \"\\u0627\\u0644\\u0645\\u0646\\u0627\\u0641\\u0642\\u0648\\u0646\",\n          \"\\u0627\\u0644\\u063a\\u0627\\u0634\\u064a\\u0629\"\n        ],\n        \"semantic_type\": \"\",\n        \"description\": \"\"\n      }\n    }\n  ]\n}"
            }
          },
          "metadata": {},
          "execution_count": 7
        }
      ]
    },
    {
      "cell_type": "code",
      "source": [
        "print(\"Unique Locations Sample:\", df['Location'].unique()[:5])  # Check unique location formats\n",
        "print(len(df['Location'].unique()))  # Check number of unique locations"
      ],
      "metadata": {
        "colab": {
          "base_uri": "https://localhost:8080/",
          "height": 69
        },
        "id": "WSRxRfCq_Rj5",
        "outputId": "27a4657c-1f91-4cb4-ed00-9a26c155bb94"
      },
      "execution_count": null,
      "outputs": [
        {
          "output_type": "display_data",
          "data": {
            "text/plain": [
              "<IPython.core.display.HTML object>"
            ],
            "text/html": [
              "<style>pre {white-space: pre-wrap;}</style>"
            ]
          },
          "metadata": {}
        },
        {
          "output_type": "stream",
          "name": "stdout",
          "text": [
            "Unique Locations Sample: ['T1A1S58J28N1' 'T2A1S58J28N1' 'T3A1S58J28N1' 'T4A1S58J28N1'\n",
            " 'T5A1S58J28N1']\n",
            "7627\n"
          ]
        }
      ]
    },
    {
      "cell_type": "code",
      "source": [
        "# Code 5: Tokenize the Locations\n",
        "\n",
        "tokenizer = Tokenizer()\n",
        "tokenizer.fit_on_texts(df['Location'])\n",
        "sequences = tokenizer.texts_to_sequences(df['Location'])\n",
        "\n",
        "print(\"Sample Sequences:\", sequences[:10])"
      ],
      "metadata": {
        "colab": {
          "base_uri": "https://localhost:8080/",
          "height": 34
        },
        "id": "BJRBK0_f-ekO",
        "outputId": "7690fdb9-afcc-4058-ef60-2dcaf3579d81"
      },
      "execution_count": null,
      "outputs": [
        {
          "output_type": "display_data",
          "data": {
            "text/plain": [
              "<IPython.core.display.HTML object>"
            ],
            "text/html": [
              "<style>pre {white-space: pre-wrap;}</style>"
            ]
          },
          "metadata": {}
        },
        {
          "output_type": "stream",
          "name": "stdout",
          "text": [
            "Sample Sequences: [[1], [2], [3], [4], [5], [6], [7], [8], [9], [10]]\n"
          ]
        }
      ]
    },
    {
      "cell_type": "code",
      "source": [
        "# Code 6:\n",
        "\n",
        "def create_sequences(locations):\n",
        "    sequences = []\n",
        "    for loc in locations:\n",
        "        parts = [\n",
        "            int(loc.split('T')[1].split('A')[0]),  # Token number\n",
        "            int(loc.split('A')[1].split('S')[0]),  # Ayah number\n",
        "            int(loc.split('S')[1].split('J')[0]),  # Sura number\n",
        "            int(loc.split('J')[1].split('N')[0]),  # Juz' number\n",
        "            int(loc.split('N')[1])                # Sura code (numerical)\n",
        "        ]\n",
        "        sequences.append(parts)\n",
        "    return sequences\n",
        "\n",
        "# Example usage:\n",
        "sample_locations = df['Location'].tolist()[:10]  # Sample the first 10 locations for quick test\n",
        "sample_sequences = create_sequences(sample_locations)\n",
        "print(\"Sample Created Sequences:\", sample_sequences)"
      ],
      "metadata": {
        "colab": {
          "base_uri": "https://localhost:8080/",
          "height": 52
        },
        "id": "-gjiepapv2-J",
        "outputId": "b3c2c66b-9f64-47a5-e570-49feef75788f"
      },
      "execution_count": null,
      "outputs": [
        {
          "output_type": "display_data",
          "data": {
            "text/plain": [
              "<IPython.core.display.HTML object>"
            ],
            "text/html": [
              "<style>pre {white-space: pre-wrap;}</style>"
            ]
          },
          "metadata": {}
        },
        {
          "output_type": "stream",
          "name": "stdout",
          "text": [
            "Sample Created Sequences: [[1, 1, 58, 28, 1], [2, 1, 58, 28, 1], [3, 1, 58, 28, 1], [4, 1, 58, 28, 1], [5, 1, 58, 28, 1], [6, 1, 58, 28, 1], [7, 1, 58, 28, 1], [8, 1, 58, 28, 1], [9, 1, 58, 28, 1], [10, 1, 58, 28, 1]]\n"
          ]
        }
      ]
    },
    {
      "cell_type": "code",
      "source": [
        "# Code 7:\n",
        "X = []\n",
        "y = []\n",
        "\n",
        "sequence_length = 5  # Number of steps in sequences\n",
        "\n",
        "for i in range(len(sample_sequences) - sequence_length):\n",
        "    X.append([seq for seq in sample_sequences[i:i+sequence_length]])\n",
        "    y.append(sample_sequences[i+sequence_length])\n",
        "\n",
        "X = np.array(X)  # Shape will be (number_of_sequences, sequence_length, 5 [features per step])\n",
        "y = np.array(y)  # Shape will be (number_of_sequences, 5 [features per label])\n",
        "\n",
        "print(\"X shape:\", X.shape)\n",
        "print(\"First Sequence in X:\", X[0])\n",
        "print(\"Corresponding Output in y:\", y[0])"
      ],
      "metadata": {
        "colab": {
          "base_uri": "https://localhost:8080/",
          "height": 139
        },
        "id": "NxAueMOlA1a0",
        "outputId": "c4333be1-16f3-40be-e137-8da4f04bc520"
      },
      "execution_count": null,
      "outputs": [
        {
          "output_type": "display_data",
          "data": {
            "text/plain": [
              "<IPython.core.display.HTML object>"
            ],
            "text/html": [
              "<style>pre {white-space: pre-wrap;}</style>"
            ]
          },
          "metadata": {}
        },
        {
          "output_type": "stream",
          "name": "stdout",
          "text": [
            "X shape: (5, 5, 5)\n",
            "First Sequence in X: [[ 1  1 58 28  1]\n",
            " [ 2  1 58 28  1]\n",
            " [ 3  1 58 28  1]\n",
            " [ 4  1 58 28  1]\n",
            " [ 5  1 58 28  1]]\n",
            "Corresponding Output in y: [ 6  1 58 28  1]\n"
          ]
        }
      ]
    },
    {
      "cell_type": "code",
      "source": [
        "# Code 8: Train-Test Split X and y\n",
        "\n",
        "X_train, X_val, y_train, y_val = train_test_split(X, y, test_size=0.2, random_state=42)\n",
        "\n",
        "print(\"Training Data Shape:\", X_train.shape, y_train.shape)\n",
        "print(\"Validation Data Shape:\", X_val.shape, y_val.shape)\n",
        "\n",
        "print(X_train[0])\n",
        "print(y_train[0])"
      ],
      "metadata": {
        "colab": {
          "base_uri": "https://localhost:8080/",
          "height": 156
        },
        "id": "pviihBDc0E6K",
        "outputId": "ed2d6852-8c3e-4fc4-be00-294dffe4395d"
      },
      "execution_count": null,
      "outputs": [
        {
          "output_type": "display_data",
          "data": {
            "text/plain": [
              "<IPython.core.display.HTML object>"
            ],
            "text/html": [
              "<style>pre {white-space: pre-wrap;}</style>"
            ]
          },
          "metadata": {}
        },
        {
          "output_type": "stream",
          "name": "stdout",
          "text": [
            "Training Data Shape: (4, 5, 5) (4, 5)\n",
            "Validation Data Shape: (1, 5, 5) (1, 5)\n",
            "[[ 5  1 58 28  1]\n",
            " [ 6  1 58 28  1]\n",
            " [ 7  1 58 28  1]\n",
            " [ 8  1 58 28  1]\n",
            " [ 9  1 58 28  1]]\n",
            "[10  1 58 28  1]\n"
          ]
        }
      ]
    },
    {
      "cell_type": "code",
      "source": [
        "# Code 9: Flatten the last two dimensions of X_train and X_val\n",
        "\n",
        "X_train_flat = X_train.reshape(X_train.shape[0], -1, 1)  # Reshaping to (num_samples, sequence_length * num_features, 1)\n",
        "X_val_flat = X_val.reshape(X_val.shape[0], -1, 1)\n",
        "\n",
        "print(\"New X_train shape:\", X_train_flat.shape)\n",
        "print(\"New X_val shape:\", X_val_flat.shape)\n",
        "\n",
        "print(X_train_flat[0])\n",
        "print(y_train[0])"
      ],
      "metadata": {
        "colab": {
          "base_uri": "https://localhost:8080/",
          "height": 503
        },
        "id": "fz6R8Gyf0HLO",
        "outputId": "a89fcf11-d8b7-42c8-8268-aad1280277a0"
      },
      "execution_count": null,
      "outputs": [
        {
          "output_type": "display_data",
          "data": {
            "text/plain": [
              "<IPython.core.display.HTML object>"
            ],
            "text/html": [
              "<style>pre {white-space: pre-wrap;}</style>"
            ]
          },
          "metadata": {}
        },
        {
          "output_type": "stream",
          "name": "stdout",
          "text": [
            "New X_train shape: (4, 25, 1)\n",
            "New X_val shape: (1, 25, 1)\n",
            "[[ 5]\n",
            " [ 1]\n",
            " [58]\n",
            " [28]\n",
            " [ 1]\n",
            " [ 6]\n",
            " [ 1]\n",
            " [58]\n",
            " [28]\n",
            " [ 1]\n",
            " [ 7]\n",
            " [ 1]\n",
            " [58]\n",
            " [28]\n",
            " [ 1]\n",
            " [ 8]\n",
            " [ 1]\n",
            " [58]\n",
            " [28]\n",
            " [ 1]\n",
            " [ 9]\n",
            " [ 1]\n",
            " [58]\n",
            " [28]\n",
            " [ 1]]\n",
            "[10  1 58 28  1]\n"
          ]
        }
      ]
    },
    {
      "cell_type": "code",
      "source": [
        "# Code 10: Build and train the model\n",
        "\n",
        "from keras.models import Sequential\n",
        "from keras.layers import LSTM, Dense\n",
        "from keras.preprocessing.sequence import pad_sequences\n",
        "\n",
        "# Define model architecture\n",
        "model = Sequential([\n",
        "    LSTM(100, input_shape=(X_train_flat.shape[1], 1), return_sequences=True),\n",
        "    LSTM(20),\n",
        "    Dense(5, activation='linear')  # Predicting 5 features just like input\n",
        "])\n",
        "\n",
        "# Compile the model\n",
        "model.compile(optimizer='adam', loss='mse', metrics=['accuracy'])\n",
        "\n",
        "# Train the model\n",
        "history = model.fit(X_train_flat, y_train, epochs=20, batch_size=64, validation_data=(X_val_flat, y_val))\n",
        "\n",
        "# Assuming X_val needs to be reshaped similarly to X_train_flat if not already done\n",
        "X_val_flat = X_val.reshape(X_val.shape[0], -1, 1)  # Adjust this line according to your actual data dimensions\n",
        "\n",
        "# Evaluate the model on the reshaped validation set\n",
        "val_loss, val_accuracy = model.evaluate(X_val_flat, y_val)\n",
        "print(\"Validation Loss:\", val_loss)\n",
        "print(\"Validation Accuracy:\", val_accuracy * 100,\"%\")"
      ],
      "metadata": {
        "colab": {
          "base_uri": "https://localhost:8080/",
          "height": 211
        },
        "id": "T0R3GQCJB8t7",
        "outputId": "562c52a0-d3e9-4c0b-b5fc-e48c19b0cdc8"
      },
      "execution_count": null,
      "outputs": [
        {
          "output_type": "error",
          "ename": "NameError",
          "evalue": "name 'X_train_flat' is not defined",
          "traceback": [
            "\u001b[0;31m---------------------------------------------------------------------------\u001b[0m",
            "\u001b[0;31mNameError\u001b[0m                                 Traceback (most recent call last)",
            "\u001b[0;32m<ipython-input-1-0b1101880685>\u001b[0m in \u001b[0;36m<cell line: 8>\u001b[0;34m()\u001b[0m\n\u001b[1;32m      7\u001b[0m \u001b[0;31m# Define model architecture\u001b[0m\u001b[0;34m\u001b[0m\u001b[0;34m\u001b[0m\u001b[0m\n\u001b[1;32m      8\u001b[0m model = Sequential([\n\u001b[0;32m----> 9\u001b[0;31m     \u001b[0mLSTM\u001b[0m\u001b[0;34m(\u001b[0m\u001b[0;36m100\u001b[0m\u001b[0;34m,\u001b[0m \u001b[0minput_shape\u001b[0m\u001b[0;34m=\u001b[0m\u001b[0;34m(\u001b[0m\u001b[0mX_train_flat\u001b[0m\u001b[0;34m.\u001b[0m\u001b[0mshape\u001b[0m\u001b[0;34m[\u001b[0m\u001b[0;36m1\u001b[0m\u001b[0;34m]\u001b[0m\u001b[0;34m,\u001b[0m \u001b[0;36m1\u001b[0m\u001b[0;34m)\u001b[0m\u001b[0;34m,\u001b[0m \u001b[0mreturn_sequences\u001b[0m\u001b[0;34m=\u001b[0m\u001b[0;32mTrue\u001b[0m\u001b[0;34m)\u001b[0m\u001b[0;34m,\u001b[0m\u001b[0;34m\u001b[0m\u001b[0;34m\u001b[0m\u001b[0m\n\u001b[0m\u001b[1;32m     10\u001b[0m     \u001b[0mLSTM\u001b[0m\u001b[0;34m(\u001b[0m\u001b[0;36m20\u001b[0m\u001b[0;34m)\u001b[0m\u001b[0;34m,\u001b[0m\u001b[0;34m\u001b[0m\u001b[0;34m\u001b[0m\u001b[0m\n\u001b[1;32m     11\u001b[0m     \u001b[0mDense\u001b[0m\u001b[0;34m(\u001b[0m\u001b[0;36m5\u001b[0m\u001b[0;34m,\u001b[0m \u001b[0mactivation\u001b[0m\u001b[0;34m=\u001b[0m\u001b[0;34m'linear'\u001b[0m\u001b[0;34m)\u001b[0m  \u001b[0;31m# Predicting 5 features just like input\u001b[0m\u001b[0;34m\u001b[0m\u001b[0;34m\u001b[0m\u001b[0m\n",
            "\u001b[0;31mNameError\u001b[0m: name 'X_train_flat' is not defined"
          ]
        }
      ]
    },
    {
      "cell_type": "code",
      "source": [
        "# Code 11\n",
        "# # Evaluate the model on the reshaped validation set\n",
        "val_loss, val_accuracy = model.evaluate(X_val_flat, y_val)\n",
        "print(\"Validation Loss:\", val_loss)\n",
        "print(\"Validation Accuracy:\", val_accuracy * 100, \"%\")"
      ],
      "metadata": {
        "colab": {
          "base_uri": "https://localhost:8080/",
          "height": 69
        },
        "id": "wIQDPef40d7x",
        "outputId": "9f1b539e-b050-4f41-e029-1f9c23acf761"
      },
      "execution_count": null,
      "outputs": [
        {
          "output_type": "display_data",
          "data": {
            "text/plain": [
              "<IPython.core.display.HTML object>"
            ],
            "text/html": [
              "<style>pre {white-space: pre-wrap;}</style>"
            ]
          },
          "metadata": {}
        },
        {
          "output_type": "stream",
          "name": "stdout",
          "text": [
            "1/1 [==============================] - 0s 29ms/step - loss: 775.9083 - accuracy: 1.0000\n",
            "Validation Loss: 775.9083251953125\n",
            "Validation Accuracy: 100.0 %\n"
          ]
        }
      ]
    },
    {
      "cell_type": "code",
      "source": [
        "# Code 12:\n",
        "\n",
        "from tensorflow.keras.models import load_model\n",
        "from keras.preprocessing.text import Tokenizer\n",
        "\n",
        "model.save('my_model.h5', include_optimizer=True)\n",
        "  # Creates a HDF5 file 'my_model.h5'\n",
        "\n",
        "# Example loading data from an Excel file (modify the p\n",
        "ath to where your dataset is located)\n",
        "data_path = '/content/drive/MyDrive/updated_Quran_df.xlsx'  # Adjust this to the correct path\n",
        "df = pd.read_excel(data_path)\n",
        "\n",
        "# Extract the 'Token' column as a list\n",
        "texts = df['Token'].tolist()  # Convert the 'Token' column to a list\n",
        "\n",
        "# Create a tokenizer instance with a specified vocabulary size\n",
        "tokenizer = Tokenizer(num_words=7628)  # Adjust 'num_words' as needed\n",
        "\n",
        "# Fit the tokenizer on the texts\n",
        "tokenizer.fit_on_texts(texts)\n",
        "\n",
        "# Optionally, save the tokenizer for later use, similar to Code 12 in your model script\n",
        "tokenizer_json = tokenizer.to_json()\n",
        "with open('tokenizer.json', 'w', encoding='utf-8') as f:\n",
        "    f.write(json.dumps(tokenizer_json, ensure_ascii=False))\n",
        "    print(\"Tokenizer saved to 'tokenizer.json'.\")"
      ],
      "metadata": {
        "colab": {
          "base_uri": "https://localhost:8080/",
          "height": 86
        },
        "id": "bsQhqUXn0UEw",
        "outputId": "36817f45-d817-4450-cab5-8c1f88856249"
      },
      "execution_count": null,
      "outputs": [
        {
          "output_type": "display_data",
          "data": {
            "text/plain": [
              "<IPython.core.display.HTML object>"
            ],
            "text/html": [
              "<style>pre {white-space: pre-wrap;}</style>"
            ]
          },
          "metadata": {}
        },
        {
          "output_type": "stream",
          "name": "stderr",
          "text": [
            "/usr/local/lib/python3.10/dist-packages/keras/src/engine/training.py:3103: UserWarning: You are saving your model as an HDF5 file via `model.save()`. This file format is considered legacy. We recommend using instead the native Keras format, e.g. `model.save('my_model.keras')`.\n",
            "  saving_api.save_model(\n"
          ]
        },
        {
          "output_type": "stream",
          "name": "stdout",
          "text": [
            "Tokenizer saved to 'tokenizer.json'.\n"
          ]
        }
      ]
    },
    {
      "cell_type": "code",
      "source": [
        "# Code 13: Load the model and tokenizer\n",
        "from keras.models import load_model\n",
        "from keras.preprocessing.text import tokenizer_from_json\n",
        "import json\n",
        "\n",
        "# Load the model\n",
        "model = load_model('my_model.h5')\n",
        "\n",
        "# Load tokenizer\n",
        "with open('tokenizer.json') as f:\n",
        "    data = json.load(f)\n",
        "    tokenizer = tokenizer_from_json(data)"
      ],
      "metadata": {
        "colab": {
          "base_uri": "https://localhost:8080/",
          "height": 17
        },
        "id": "6DIWdi8q0aFd",
        "outputId": "97b670ba-91c2-4b43-f3cd-65369f386a51"
      },
      "execution_count": null,
      "outputs": [
        {
          "output_type": "display_data",
          "data": {
            "text/plain": [
              "<IPython.core.display.HTML object>"
            ],
            "text/html": [
              "<style>pre {white-space: pre-wrap;}</style>"
            ]
          },
          "metadata": {}
        }
      ]
    },
    {
      "cell_type": "code",
      "source": [
        "# Code 14\n",
        "import matplotlib.pyplot as plt\n",
        "\n",
        "# Plotting training and validation loss\n",
        "plt.figure(figsize=(10, 5))\n",
        "plt.plot(history.history['loss'], label='Train Loss')\n",
        "plt.plot(history.history['val_loss'], label='Validation Loss')\n",
        "plt.title('Model Loss Over Epochs')\n",
        "plt.ylabel('Loss')\n",
        "plt.xlabel('Epoch')\n",
        "plt.legend()\n",
        "plt.show()\n"
      ],
      "metadata": {
        "colab": {
          "base_uri": "https://localhost:8080/",
          "height": 487
        },
        "id": "F2LBFIvyAkyj",
        "outputId": "95d6dc11-77cb-4903-c7cd-641f6ffe46f0"
      },
      "execution_count": null,
      "outputs": [
        {
          "output_type": "display_data",
          "data": {
            "text/plain": [
              "<IPython.core.display.HTML object>"
            ],
            "text/html": [
              "<style>pre {white-space: pre-wrap;}</style>"
            ]
          },
          "metadata": {}
        },
        {
          "output_type": "display_data",
          "data": {
            "text/plain": [
              "<Figure size 1000x500 with 1 Axes>"
            ],
            "image/png": "[encoded data removed]"
          },
          "metadata": {}
        }
      ]
    },
    {
      "cell_type": "markdown",
      "source": [
        "The graph shows the training and validation loss of the model over the epochs. The training loss generally decreases over time, while the validation loss initially decreases and then starts to increase slightly. This is a common phenomenon known as overfitting, where the model starts to memorize the training data too well and loses its ability to generalize to unseen data.\n",
        "\n",
        "Based on the graph, we can conclude that the model is not performing optimally. While the training loss is decreasing, indicating the model is learning, the validation loss is increasing, indicating that the model is not generalizing well to unseen data.\n",
        "\n",
        "To improve the model's performance, you can try the following techniques:\n",
        "\n",
        "- **Increase the amount of training data:** This can help the model learn more general patterns and reduce overfitting.\n",
        "- **Use regularization techniques:** Regularization techniques, such as L1 or L2 regularization, can help prevent the model from overfitting by penalizing large weights.\n",
        "- **Reduce the model complexity:** Reducing the number of layers or the number of neurons in each layer can help prevent overfitting.\n",
        "- **Use early stopping:** Early stopping can help prevent overfitting by stopping the training process before the model starts to overfit."
      ],
      "metadata": {
        "id": "Y8ehVQznalIG"
      }
    },
    {
      "cell_type": "code",
      "source": [
        "# Code 15: Creating the metadata\n",
        "# Extract components and add as separate columns for easy access\n",
        "df['Token_Number'] = df['Location'].apply(lambda x: int(x.split('T')[1].split('A')[0]))\n",
        "df['Ayah_Number'] = df['Location'].apply(lambda x: int(x.split('A')[1].split('S')[0]))\n",
        "df['Sura_Number'] = df['Location'].apply(lambda x: int(x.split('S')[1].split('J')[0]))\n",
        "df['Juz_Number'] = df['Location'].apply(lambda x: int(x.split('J')[1].split('N')[0]))\n",
        "\n",
        "# Initialize metadata dictionaries\n",
        "metadata = {\n",
        "    'max_tokens_per_ayah': {},\n",
        "    'max_ayahs_per_sura': {},\n",
        "    'ayah_ends_at': {},\n",
        "    'juz_ends_at': {}\n",
        "}\n",
        "\n",
        "# Populate metadata dictionaries\n",
        "for index, row in df.iterrows():\n",
        "    sura, ayah, token, juz = row['Sura_Number'], row['Ayah_Number'], row['Token_Number'], row['Juz_Number']\n",
        "\n",
        "    if sura not in metadata['max_tokens_per_ayah']:\n",
        "        metadata['max_tokens_per_ayah'][sura] = {}\n",
        "    if sura not in metadata['max_ayahs_per_sura']:\n",
        "        metadata['max_ayahs_per_sura'][sura] = 0\n",
        "\n",
        "    metadata['max_ayahs_per_sura'][sura] = max(metadata['max_ayahs_per_sura'][sura], ayah)\n",
        "    metadata['max_tokens_per_ayah'][sura][ayah] = max(metadata['max_tokens_per_ayah'][sura].get(ayah, 0), token)\n",
        "    metadata['ayah_ends_at'][(sura, ayah)] = token  # Last token of each Ayah\n",
        "\n",
        "    # Check and update the last token of Juz\n",
        "    if juz not in metadata['juz_ends_at']:\n",
        "        metadata['juz_ends_at'][juz] = (sura, ayah, token)\n",
        "    else:\n",
        "        current_end = metadata['juz_ends_at'][juz]\n",
        "        if (sura > current_end[0]) or \\\n",
        "           (sura == current_end[0] and ayah > current_end[1]) or \\\n",
        "           (sura == current_end[0] and ayah == current_end[1] and token > current_end[2]):\n",
        "            metadata['juz_ends_at'][juz] = (sura, ayah, token)\n",
        "\n",
        "print(\"Metadata prepared for prediction adjustments.\")\n",
        "\n",
        "#print(\"Max Tokens per Ayah:\", metadata['max_tokens_per_ayah'])\n",
        "#print(\"Max Ayahs per Sura:\", metadata['max_ayahs_per_sura'])"
      ],
      "metadata": {
        "colab": {
          "base_uri": "https://localhost:8080/",
          "height": 34
        },
        "id": "pnwb8CNO1h6W",
        "outputId": "fb83f582-d621-48fd-f204-5445cdb72d7f"
      },
      "execution_count": null,
      "outputs": [
        {
          "output_type": "display_data",
          "data": {
            "text/plain": [
              "<IPython.core.display.HTML object>"
            ],
            "text/html": [
              "<style>pre {white-space: pre-wrap;}</style>"
            ]
          },
          "metadata": {}
        },
        {
          "output_type": "stream",
          "name": "stdout",
          "text": [
            "Metadata prepared for prediction adjustments.\n"
          ]
        }
      ]
    },
    {
      "cell_type": "code",
      "source": [
        "# Code 16:\n",
        "import re\n",
        "\n",
        "def parse_location(current_location):\n",
        "    \"\"\"\n",
        "    Parses the location string into its component integers safely.\n",
        "\n",
        "    Args:\n",
        "    current_location (str): The location string in the format 'T#A#S#J#N#'.\n",
        "\n",
        "    Returns:\n",
        "    dict: A dictionary with keys 'Token_Number', 'Ayah_Number', 'Sura_Number', 'Juz_Number', and 'Sura_Code', representing their respective integers.\n",
        "    \"\"\"\n",
        "    def safe_extract(pattern, text):\n",
        "        \"\"\" Safely extracts first group using regex, returns 0 if no match is found \"\"\"\n",
        "        try:\n",
        "            return int(re.search(pattern, text).group(1))\n",
        "        except AttributeError:\n",
        "            return 0  # Default value if pattern not found\n",
        "\n",
        "    token_num = safe_extract('T(\\d+)', current_location)\n",
        "    ayah_num = safe_extract('A(\\d+)', current_location)\n",
        "    sura_num = safe_extract('S(\\d+)', current_location)\n",
        "    juz_num = safe_extract('J(\\d+)', current_location)\n",
        "    sura_code = safe_extract('N(\\d+)', current_location)\n",
        "\n",
        "    return {\n",
        "        'Token_Number': token_num,\n",
        "        'Ayah_Number': ayah_num,\n",
        "        'Sura_Number': sura_num,\n",
        "        'Juz_Number': juz_num,\n",
        "        'Sura_Code': sura_code\n",
        "    }"
      ],
      "metadata": {
        "colab": {
          "base_uri": "https://localhost:8080/",
          "height": 17
        },
        "id": "SDjAD7saYHZs",
        "outputId": "34d6dec1-fb79-4712-9f14-fcdd5e2e1b6e"
      },
      "execution_count": null,
      "outputs": [
        {
          "output_type": "display_data",
          "data": {
            "text/plain": [
              "<IPython.core.display.HTML object>"
            ],
            "text/html": [
              "<style>pre {white-space: pre-wrap;}</style>"
            ]
          },
          "metadata": {}
        }
      ]
    },
    {
      "cell_type": "code",
      "source": [
        "# Code 17:\n",
        "import tensorflow as tf\n",
        "from keras.preprocessing.sequence import pad_sequences\n",
        "from keras.models import load_model  # Assuming model is saved and needs to be loaded\n",
        "\n",
        "def prepare_input_for_prediction(current_sequence, tokenizer, sequence_length=5, num_features=5):\n",
        "    \"\"\"\n",
        "    Prepares the input for prediction by tokenizing and converting it into the appropriate tensor format.\n",
        "\n",
        "    Args:\n",
        "    current_sequence (str): Current Quranic location.\n",
        "    tokenizer (Tokenizer): Tokenizer that was fitted on the locations.\n",
        "    sequence_length (int): The expected length of sequences for the model.\n",
        "    num_features (int): The number of features per sequence element.\n",
        "\n",
        "    Returns:\n",
        "    Tensor: A tensor shaped (1, sequence_length * num_features, 1) ready for model prediction.\n",
        "    \"\"\"\n",
        "    # Tokenize the current sequence\n",
        "    current_indices = tokenizer.texts_to_sequences([current_sequence])\n",
        "\n",
        "    # Pad sequences to ensure consistent input size\n",
        "    current_indices_padded = pad_sequences(current_indices, maxlen=sequence_length * num_features)\n",
        "\n",
        "    # Convert padded sequences to tensor and reshape to fit the model's expected input shape\n",
        "    current_indices_tensor = tf.convert_to_tensor(current_indices_padded, dtype=tf.float32)\n",
        "    current_indices_tensor = tf.reshape(current_indices_tensor, (1, sequence_length * num_features, 1))\n",
        "\n",
        "    return current_indices_tensor\n",
        "\n",
        "def predict_next_location(current_indices_tensor, model):\n",
        "    \"\"\"\n",
        "    Predicts the next location based on the model and the prepared tensor input.\n",
        "\n",
        "    Args:\n",
        "    current_indices_tensor (Tensor): The input tensor for the model.\n",
        "    model (Model): The pre-loaded trained model.\n",
        "\n",
        "    Returns:\n",
        "    ndarray: The raw prediction output from the model.\n",
        "    \"\"\"\n",
        "    # Predict using the pre-loaded model and the prepared input tensor\n",
        "    return model.predict(current_indices_tensor)"
      ],
      "metadata": {
        "colab": {
          "base_uri": "https://localhost:8080/",
          "height": 17
        },
        "id": "J1xwXWy1y8ds",
        "outputId": "13b9753f-cc02-4f55-978d-b6d3e9d3c751"
      },
      "execution_count": null,
      "outputs": [
        {
          "output_type": "display_data",
          "data": {
            "text/plain": [
              "<IPython.core.display.HTML object>"
            ],
            "text/html": [
              "<style>pre {white-space: pre-wrap;}</style>"
            ]
          },
          "metadata": {}
        }
      ]
    },
    {
      "cell_type": "code",
      "source": [
        "# Code 18\n",
        "\n",
        "def format_predicted_location(current_features, predicted_features, metadata, df):\n",
        "    current_token = current_features['Token_Number']\n",
        "    current_ayah = current_features['Ayah_Number']\n",
        "    current_sura = current_features['Sura_Number']\n",
        "    current_juz = current_features['Juz_Number']\n",
        "    current_sura_code = current_features['Sura_Code']  # This needs to be defined or fetched similarly\n",
        "\n",
        "    # Calculate the predicted next token number based on the maximum tokens in the current Ayah\n",
        "    max_tokens_in_ayah = metadata['max_tokens_per_ayah'][current_sura].get(current_ayah, 100)\n",
        "    change_in_tokens = max(1, int(predicted_features[0] * max_tokens_in_ayah))\n",
        "    next_token_number = current_token + change_in_tokens\n",
        "\n",
        "    next_sura = current_sura\n",
        "    next_ayah = current_ayah\n",
        "\n",
        "    # Handling token overflow, move to next Ayah or Sura\n",
        "    if next_token_number > max_tokens_in_ayah:\n",
        "        next_ayah += 1\n",
        "        next_token_number = 1  # Start at the first token of the next Ayah\n",
        "\n",
        "        if next_ayah > metadata['max_ayahs_per_sura'].get(current_sura, 286):\n",
        "            next_sura += 1\n",
        "            next_ayah = 1  # Start at the first Ayah of the next Sura\n",
        "\n",
        "            if next_sura > max(metadata['max_ayahs_per_sura'].keys()):  # Optional: Reset to first Sura\n",
        "                next_sura = 1\n",
        "\n",
        "    new_location = f\"T{next_token_number}A{next_ayah}S{next_sura}J{current_juz}\"\n",
        "\n",
        "    # Extract the predicted token number, Ayah number, and Sura number from the new location\n",
        "    predicted_token_number = int(new_location.split('T')[1].split('A')[0])\n",
        "    predicted_ayah_number = int(new_location.split('A')[1].split('S')[0])\n",
        "    predicted_sura_number = int(new_location.split('S')[1].split('J')[0])\n",
        "\n",
        "    # Filter the dataset based on the predicted Sura number, Ayah number, and Token number\n",
        "    filtered_df = df[(df['Sura_Number'] == predicted_sura_number) &\n",
        "                     (df['Ayah_Number'] == predicted_ayah_number) &\n",
        "                     (df['Token_Number'] == predicted_token_number)]\n",
        "\n",
        "    # Get the text token corresponding to the predicted location\n",
        "    if not filtered_df.empty:\n",
        "        text_token = filtered_df.iloc[0]['Token']  # Assuming 'Token' is the column containing text tokens\n",
        "        return new_location, text_token\n",
        "    else:\n",
        "        return new_location, None\n",
        "\n",
        "# Example usage\n",
        "current_features = {\n",
        "    'Token_Number': 4,  # from 'T3'\n",
        "    'Ayah_Number': 3,   # from 'A1'\n",
        "    'Sura_Number': 106,  # from 'S58'\n",
        "    'Juz_Number': 30,   # from 'J28'\n",
        "    'Sura_Code': 49    # from 'N48'\n",
        "}\n",
        "\n",
        "predicted_features = [0.09] # This is an example prediction that should be the output of your model\n",
        "next_location, text_token = format_predicted_location(current_features, predicted_features, metadata, df)\n",
        "if text_token is not None:\n",
        "    print(\"\\nPredicted Next Token:\", text_token, \", === Location ===>\", next_location)\n",
        "else:\n",
        "    print(\"No corresponding text token found.\")\n",
        "\n",
        "next_ayah = int(next_location.split('A')[1].split('S')[0])\n",
        "next_sura = int(next_location.split('S')[1].split('J')[0])\n",
        "sura_name = df[df['Sura_Number'] == next_sura]['Sura Name'].iloc[0]\n",
        "\n",
        "print()\n",
        "print(\"Sura Name:سورة\", sura_name)\n",
        "print(\"Token Number:\", next_location.split('T')[1].split('A')[0])\n",
        "print(\"Ayah Number:\", next_location.split('A')[1].split('S')[0])\n",
        "print(\"Sura Number:\", next_location.split('S')[1].split('J')[0])\n",
        "print(\"Juz Number:\", next_location.split('J')[1])\n"
      ],
      "metadata": {
        "colab": {
          "base_uri": "https://localhost:8080/",
          "height": 156
        },
        "id": "yKoLQrQp_Zuk",
        "outputId": "a39079ef-1b30-4ce0-8e16-32f4ba815bf8"
      },
      "execution_count": null,
      "outputs": [
        {
          "output_type": "display_data",
          "data": {
            "text/plain": [
              "<IPython.core.display.HTML object>"
            ],
            "text/html": [
              "<style>pre {white-space: pre-wrap;}</style>"
            ]
          },
          "metadata": {}
        },
        {
          "output_type": "stream",
          "name": "stdout",
          "text": [
            "\n",
            "Predicted Next Token: الذي , === Location ===> T1A4S106J30\n",
            "\n",
            "Sura Name:سورة قريش\n",
            "Token Number: 1\n",
            "Ayah Number: 4\n",
            "Sura Number: 106\n",
            "Juz Number: 30\n"
          ]
        }
      ]
    }
  ]
}
