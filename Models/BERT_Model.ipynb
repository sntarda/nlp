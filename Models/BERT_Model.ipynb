{
  "nbformat": 4,
  "nbformat_minor": 0,
  "metadata": {
    "colab": {
      "provenance": [],
      "toc_visible": true,
      "machine_shape": "hm",
      "gpuType": "A100"
    },
    "kernelspec": {
      "name": "python3",
      "display_name": "Python 3"
    },
    "language_info": {
      "name": "python"
    },
    "accelerator": "GPU"
  },
  "cells": [
    {
      "cell_type": "code",
      "source": [
        "!pip install transformers[torch]\n",
        "!pip install accelerate\n",
        "!pip install pytorch_model_summary\n",
        "!pip install torchmetrics\n",
        "!pip install apex.pytorch"
      ],
      "metadata": {
        "id": "8lUID5EVPh27"
      },
      "execution_count": null,
      "outputs": []
    },
    {
      "cell_type": "code",
      "source": [
        "# wrap text to the viewing window for this notebook\n",
        "from IPython.display import HTML, display\n",
        "\n",
        "def set_css():\n",
        "  display(HTML('''\n",
        "  <style>\n",
        "    pre {\n",
        "        white-space: pre-wrap;\n",
        "    }\n",
        "  </style>\n",
        "  '''))\n",
        "get_ipython().events.register('pre_run_cell', set_css)"
      ],
      "metadata": {
        "id": "3Yw_wxk_QwnY"
      },
      "execution_count": null,
      "outputs": []
    },
    {
      "cell_type": "code",
      "execution_count": null,
      "metadata": {
        "colab": {
          "base_uri": "https://localhost:8080/",
          "height": 17
        },
        "id": "_140EkcFPeCv",
        "outputId": "81d3238b-e5c4-4065-a0f9-4227f5331535"
      },
      "outputs": [
        {
          "output_type": "display_data",
          "data": {
            "text/plain": [
              "<IPython.core.display.HTML object>"
            ],
            "text/html": [
              "\n",
              "  <style>\n",
              "    pre {\n",
              "        white-space: pre-wrap;\n",
              "    }\n",
              "  </style>\n",
              "  "
            ]
          },
          "metadata": {}
        }
      ],
      "source": [
        "# Imports\n",
        "import ast\n",
        "import math\n",
        "import numpy as np\n",
        "import pandas as pd\n",
        "from tqdm import tqdm\n",
        "import torch.optim as optim\n",
        "from torch.optim import AdamW\n",
        "from collections import defaultdict\n",
        "from gensim.models import Word2Vec\n",
        "\n",
        "import torch\n",
        "import torch.nn as nn\n",
        "from pytorch_model_summary import summary\n",
        "from torchmetrics import Accuracy, F1Score, Precision, Recall\n",
        "from torch.utils.data import Dataset, TensorDataset, DataLoader, RandomSampler, SequentialSampler, random_split\n",
        "from accelerate import Accelerator\n",
        "from transformers import AutoModelForMaskedLM, BertGenerationEncoder, BertGenerationConfig, BertForMaskedLM, AutoTokenizer, BertTokenizer, AdamW, AutoModel\n",
        "from sklearn.model_selection import train_test_split\n",
        "from keras.preprocessing.sequence import pad_sequences\n",
        "from keras.preprocessing.text import Tokenizer\n",
        "from torch.nn.utils.rnn import pad_sequence\n",
        "\n",
        "import spacy\n",
        "from spacy.lang.ar import Arabic\n",
        "from spacy.lang.ar.examples import sentences\n",
        "\n",
        "from google.colab import drive"
      ]
    },
    {
      "cell_type": "code",
      "source": [
        "drive.mount('/content/drive')"
      ],
      "metadata": {
        "colab": {
          "base_uri": "https://localhost:8080/",
          "height": 34
        },
        "id": "YXPzXMkTr8os",
        "outputId": "267e30c3-4c5c-42c5-cf8f-c6343cc7c228"
      },
      "execution_count": null,
      "outputs": [
        {
          "output_type": "display_data",
          "data": {
            "text/plain": [
              "<IPython.core.display.HTML object>"
            ],
            "text/html": [
              "\n",
              "  <style>\n",
              "    pre {\n",
              "        white-space: pre-wrap;\n",
              "    }\n",
              "  </style>\n",
              "  "
            ]
          },
          "metadata": {}
        },
        {
          "output_type": "stream",
          "name": "stdout",
          "text": [
            "Drive already mounted at /content/drive; to attempt to forcibly remount, call drive.mount(\"/content/drive\", force_remount=True).\n"
          ]
        }
      ]
    },
    {
      "cell_type": "code",
      "source": [
        "df_path = '/content/drive/MyDrive/Artificial Intelligence/Class: Natural Language Processing NLP/Project /Phase 1/Output/QuranDF_wTokensTags.xlsx'\n",
        "QURAN_DF = pd.read_excel(df_path)\n",
        "QURAN_DF.head()"
      ],
      "metadata": {
        "colab": {
          "base_uri": "https://localhost:8080/",
          "height": 206
        },
        "id": "wNphwjw9PoKZ",
        "outputId": "059a04a2-2d22-426f-d87e-e46c5efabec9"
      },
      "execution_count": null,
      "outputs": [
        {
          "output_type": "display_data",
          "data": {
            "text/plain": [
              "<IPython.core.display.HTML object>"
            ],
            "text/html": [
              "\n",
              "  <style>\n",
              "    pre {\n",
              "        white-space: pre-wrap;\n",
              "    }\n",
              "  </style>\n",
              "  "
            ]
          },
          "metadata": {}
        },
        {
          "output_type": "execute_result",
          "data": {
            "text/plain": [
              "   Sura Number  Ayah Number                                      Text  \\\n",
              "0            1            1   بِسْمِ ٱللَّهِ ٱلرَّحْمَـٰنِ ٱلرَّحِيمِ   \n",
              "1            1            2    ٱلْحَمْدُ لِلَّهِ رَبِّ ٱلْعَـٰلَمِينَ   \n",
              "2            1            3                  ٱلرَّحْمَـٰنِ ٱلرَّحِيمِ   \n",
              "3            1            4                  مَـٰلِكِ يَوْمِ ٱلدِّينِ   \n",
              "4            1            5  إِيَّاكَ نَعْبُدُ وَإِيَّاكَ نَسْتَعِينُ   \n",
              "\n",
              "                               Cleaned Text  \\\n",
              "0   بِسْمِ اللَّهِ الرَّحْمَـٰنِ الرَّحِيمِ   \n",
              "1    الْحَمْدُ لِلَّهِ رَبِّ الْعَـٰلَمِينَ   \n",
              "2                  الرَّحْمَـٰنِ الرَّحِيمِ   \n",
              "3                  مَـٰلِكِ يَوْمِ الدِّينِ   \n",
              "4  اِيَّاكَ نَعْبُدُ وَاِيَّاكَ نَسْتَعِينُ   \n",
              "\n",
              "                                              Tokens  \\\n",
              "0  ['بِسْمِ', 'اللَّهِ', 'الرَّحْمَـٰنِ', 'الرَّح...   \n",
              "1  ['الْحَمْدُ', 'لِلَّهِ', 'رَبِّ', 'الْعَـٰلَمِ...   \n",
              "2                    ['الرَّحْمَـٰنِ', 'الرَّحِيمِ']   \n",
              "3                 ['مَـٰلِكِ', 'يَوْمِ', 'الدِّينِ']   \n",
              "4  ['اِيَّاكَ', 'نَعْبُدُ', 'وَاِيَّاكَ', 'نَسْتَ...   \n",
              "\n",
              "                                           Token_POS  \\\n",
              "0  {'بِسْمِ': 'P+N', 'اللَّهِ': 'PN', 'الرَّحْمَـ...   \n",
              "1  {'الْحَمْدُ': 'DET+N', 'لِلَّهِ': 'P+PN', 'رَب...   \n",
              "2  {'الرَّحْمَـٰنِ': 'DET+ADJ', 'الرَّحِيمِ': 'DE...   \n",
              "3  {'مَـٰلِكِ': 'N', 'يَوْمِ': 'N', 'الدِّينِ': '...   \n",
              "4  {'اِيَّاكَ': 'PRON', 'نَعْبُدُ': 'V', 'وَاِيَّ...   \n",
              "\n",
              "                              POS_Tags  \\\n",
              "0  ['P+N', 'PN', 'DET+ADJ', 'DET+ADJ']   \n",
              "1      ['DET+N', 'P+PN', 'N', 'DET+N']   \n",
              "2               ['DET+ADJ', 'DET+ADJ']   \n",
              "3                  ['N', 'N', 'DET+N']   \n",
              "4      ['PRON', 'V', 'CONJ+PRON', 'V']   \n",
              "\n",
              "                                 Token_POS_Sura_Ayah  \n",
              "0  [('بِسْمِ', 'P+N', 1, 1), ('اللَّهِ', 'PN', 1,...  \n",
              "1  [('الْحَمْدُ', 'DET+N', 1, 2), ('لِلَّهِ', 'P+...  \n",
              "2  [('الرَّحْمَـٰنِ', 'DET+ADJ', 1, 3), ('الرَّحِ...  \n",
              "3  [('مَـٰلِكِ', 'N', 1, 4), ('يَوْمِ', 'N', 1, 4...  \n",
              "4  [('اِيَّاكَ', 'PRON', 1, 5), ('نَعْبُدُ', 'V',...  "
            ],
            "text/html": [
              "\n",
              "  <div id=\"df-bd74d08c-667f-48ab-a138-8ce612150def\" class=\"colab-df-container\">\n",
              "    <div>\n",
              "<style scoped>\n",
              "    .dataframe tbody tr th:only-of-type {\n",
              "        vertical-align: middle;\n",
              "    }\n",
              "\n",
              "    .dataframe tbody tr th {\n",
              "        vertical-align: top;\n",
              "    }\n",
              "\n",
              "    .dataframe thead th {\n",
              "        text-align: right;\n",
              "    }\n",
              "</style>\n",
              "<table border=\"1\" class=\"dataframe\">\n",
              "  <thead>\n",
              "    <tr style=\"text-align: right;\">\n",
              "      <th></th>\n",
              "      <th>Sura Number</th>\n",
              "      <th>Ayah Number</th>\n",
              "      <th>Text</th>\n",
              "      <th>Cleaned Text</th>\n",
              "      <th>Tokens</th>\n",
              "      <th>Token_POS</th>\n",
              "      <th>POS_Tags</th>\n",
              "      <th>Token_POS_Sura_Ayah</th>\n",
              "    </tr>\n",
              "  </thead>\n",
              "  <tbody>\n",
              "    <tr>\n",
              "      <th>0</th>\n",
              "      <td>1</td>\n",
              "      <td>1</td>\n",
              "      <td>بِسْمِ ٱللَّهِ ٱلرَّحْمَـٰنِ ٱلرَّحِيمِ</td>\n",
              "      <td>بِسْمِ اللَّهِ الرَّحْمَـٰنِ الرَّحِيمِ</td>\n",
              "      <td>['بِسْمِ', 'اللَّهِ', 'الرَّحْمَـٰنِ', 'الرَّح...</td>\n",
              "      <td>{'بِسْمِ': 'P+N', 'اللَّهِ': 'PN', 'الرَّحْمَـ...</td>\n",
              "      <td>['P+N', 'PN', 'DET+ADJ', 'DET+ADJ']</td>\n",
              "      <td>[('بِسْمِ', 'P+N', 1, 1), ('اللَّهِ', 'PN', 1,...</td>\n",
              "    </tr>\n",
              "    <tr>\n",
              "      <th>1</th>\n",
              "      <td>1</td>\n",
              "      <td>2</td>\n",
              "      <td>ٱلْحَمْدُ لِلَّهِ رَبِّ ٱلْعَـٰلَمِينَ</td>\n",
              "      <td>الْحَمْدُ لِلَّهِ رَبِّ الْعَـٰلَمِينَ</td>\n",
              "      <td>['الْحَمْدُ', 'لِلَّهِ', 'رَبِّ', 'الْعَـٰلَمِ...</td>\n",
              "      <td>{'الْحَمْدُ': 'DET+N', 'لِلَّهِ': 'P+PN', 'رَب...</td>\n",
              "      <td>['DET+N', 'P+PN', 'N', 'DET+N']</td>\n",
              "      <td>[('الْحَمْدُ', 'DET+N', 1, 2), ('لِلَّهِ', 'P+...</td>\n",
              "    </tr>\n",
              "    <tr>\n",
              "      <th>2</th>\n",
              "      <td>1</td>\n",
              "      <td>3</td>\n",
              "      <td>ٱلرَّحْمَـٰنِ ٱلرَّحِيمِ</td>\n",
              "      <td>الرَّحْمَـٰنِ الرَّحِيمِ</td>\n",
              "      <td>['الرَّحْمَـٰنِ', 'الرَّحِيمِ']</td>\n",
              "      <td>{'الرَّحْمَـٰنِ': 'DET+ADJ', 'الرَّحِيمِ': 'DE...</td>\n",
              "      <td>['DET+ADJ', 'DET+ADJ']</td>\n",
              "      <td>[('الرَّحْمَـٰنِ', 'DET+ADJ', 1, 3), ('الرَّحِ...</td>\n",
              "    </tr>\n",
              "    <tr>\n",
              "      <th>3</th>\n",
              "      <td>1</td>\n",
              "      <td>4</td>\n",
              "      <td>مَـٰلِكِ يَوْمِ ٱلدِّينِ</td>\n",
              "      <td>مَـٰلِكِ يَوْمِ الدِّينِ</td>\n",
              "      <td>['مَـٰلِكِ', 'يَوْمِ', 'الدِّينِ']</td>\n",
              "      <td>{'مَـٰلِكِ': 'N', 'يَوْمِ': 'N', 'الدِّينِ': '...</td>\n",
              "      <td>['N', 'N', 'DET+N']</td>\n",
              "      <td>[('مَـٰلِكِ', 'N', 1, 4), ('يَوْمِ', 'N', 1, 4...</td>\n",
              "    </tr>\n",
              "    <tr>\n",
              "      <th>4</th>\n",
              "      <td>1</td>\n",
              "      <td>5</td>\n",
              "      <td>إِيَّاكَ نَعْبُدُ وَإِيَّاكَ نَسْتَعِينُ</td>\n",
              "      <td>اِيَّاكَ نَعْبُدُ وَاِيَّاكَ نَسْتَعِينُ</td>\n",
              "      <td>['اِيَّاكَ', 'نَعْبُدُ', 'وَاِيَّاكَ', 'نَسْتَ...</td>\n",
              "      <td>{'اِيَّاكَ': 'PRON', 'نَعْبُدُ': 'V', 'وَاِيَّ...</td>\n",
              "      <td>['PRON', 'V', 'CONJ+PRON', 'V']</td>\n",
              "      <td>[('اِيَّاكَ', 'PRON', 1, 5), ('نَعْبُدُ', 'V',...</td>\n",
              "    </tr>\n",
              "  </tbody>\n",
              "</table>\n",
              "</div>\n",
              "    <div class=\"colab-df-buttons\">\n",
              "\n",
              "  <div class=\"colab-df-container\">\n",
              "    <button class=\"colab-df-convert\" onclick=\"convertToInteractive('df-bd74d08c-667f-48ab-a138-8ce612150def')\"\n",
              "            title=\"Convert this dataframe to an interactive table.\"\n",
              "            style=\"display:none;\">\n",
              "\n",
              "  <svg xmlns=\"http://www.w3.org/2000/svg\" height=\"24px\" viewBox=\"0 -960 960 960\">\n",
              "    <path d=\"M120-120v-720h720v720H120Zm60-500h600v-160H180v160Zm220 220h160v-160H400v160Zm0 220h160v-160H400v160ZM180-400h160v-160H180v160Zm440 0h160v-160H620v160ZM180-180h160v-160H180v160Zm440 0h160v-160H620v160Z\"/>\n",
              "  </svg>\n",
              "    </button>\n",
              "\n",
              "  <style>\n",
              "    .colab-df-container {\n",
              "      display:flex;\n",
              "      gap: 12px;\n",
              "    }\n",
              "\n",
              "    .colab-df-convert {\n",
              "      background-color: #E8F0FE;\n",
              "      border: none;\n",
              "      border-radius: 50%;\n",
              "      cursor: pointer;\n",
              "      display: none;\n",
              "      fill: #1967D2;\n",
              "      height: 32px;\n",
              "      padding: 0 0 0 0;\n",
              "      width: 32px;\n",
              "    }\n",
              "\n",
              "    .colab-df-convert:hover {\n",
              "      background-color: #E2EBFA;\n",
              "      box-shadow: 0px 1px 2px rgba(60, 64, 67, 0.3), 0px 1px 3px 1px rgba(60, 64, 67, 0.15);\n",
              "      fill: #174EA6;\n",
              "    }\n",
              "\n",
              "    .colab-df-buttons div {\n",
              "      margin-bottom: 4px;\n",
              "    }\n",
              "\n",
              "    [theme=dark] .colab-df-convert {\n",
              "      background-color: #3B4455;\n",
              "      fill: #D2E3FC;\n",
              "    }\n",
              "\n",
              "    [theme=dark] .colab-df-convert:hover {\n",
              "      background-color: #434B5C;\n",
              "      box-shadow: 0px 1px 3px 1px rgba(0, 0, 0, 0.15);\n",
              "      filter: drop-shadow(0px 1px 2px rgba(0, 0, 0, 0.3));\n",
              "      fill: #FFFFFF;\n",
              "    }\n",
              "  </style>\n",
              "\n",
              "    <script>\n",
              "      const buttonEl =\n",
              "        document.querySelector('#df-bd74d08c-667f-48ab-a138-8ce612150def button.colab-df-convert');\n",
              "      buttonEl.style.display =\n",
              "        google.colab.kernel.accessAllowed ? 'block' : 'none';\n",
              "\n",
              "      async function convertToInteractive(key) {\n",
              "        const element = document.querySelector('#df-bd74d08c-667f-48ab-a138-8ce612150def');\n",
              "        const dataTable =\n",
              "          await google.colab.kernel.invokeFunction('convertToInteractive',\n",
              "                                                    [key], {});\n",
              "        if (!dataTable) return;\n",
              "\n",
              "        const docLinkHtml = 'Like what you see? Visit the ' +\n",
              "          '<a target=\"_blank\" href=https://colab.research.google.com/notebooks/data_table.ipynb>data table notebook</a>'\n",
              "          + ' to learn more about interactive tables.';\n",
              "        element.innerHTML = '';\n",
              "        dataTable['output_type'] = 'display_data';\n",
              "        await google.colab.output.renderOutput(dataTable, element);\n",
              "        const docLink = document.createElement('div');\n",
              "        docLink.innerHTML = docLinkHtml;\n",
              "        element.appendChild(docLink);\n",
              "      }\n",
              "    </script>\n",
              "  </div>\n",
              "\n",
              "\n",
              "<div id=\"df-f418eecd-95f5-43df-978d-d3248faa167d\">\n",
              "  <button class=\"colab-df-quickchart\" onclick=\"quickchart('df-f418eecd-95f5-43df-978d-d3248faa167d')\"\n",
              "            title=\"Suggest charts\"\n",
              "            style=\"display:none;\">\n",
              "\n",
              "<svg xmlns=\"http://www.w3.org/2000/svg\" height=\"24px\"viewBox=\"0 0 24 24\"\n",
              "     width=\"24px\">\n",
              "    <g>\n",
              "        <path d=\"M19 3H5c-1.1 0-2 .9-2 2v14c0 1.1.9 2 2 2h14c1.1 0 2-.9 2-2V5c0-1.1-.9-2-2-2zM9 17H7v-7h2v7zm4 0h-2V7h2v10zm4 0h-2v-4h2v4z\"/>\n",
              "    </g>\n",
              "</svg>\n",
              "  </button>\n",
              "\n",
              "<style>\n",
              "  .colab-df-quickchart {\n",
              "      --bg-color: #E8F0FE;\n",
              "      --fill-color: #1967D2;\n",
              "      --hover-bg-color: #E2EBFA;\n",
              "      --hover-fill-color: #174EA6;\n",
              "      --disabled-fill-color: #AAA;\n",
              "      --disabled-bg-color: #DDD;\n",
              "  }\n",
              "\n",
              "  [theme=dark] .colab-df-quickchart {\n",
              "      --bg-color: #3B4455;\n",
              "      --fill-color: #D2E3FC;\n",
              "      --hover-bg-color: #434B5C;\n",
              "      --hover-fill-color: #FFFFFF;\n",
              "      --disabled-bg-color: #3B4455;\n",
              "      --disabled-fill-color: #666;\n",
              "  }\n",
              "\n",
              "  .colab-df-quickchart {\n",
              "    background-color: var(--bg-color);\n",
              "    border: none;\n",
              "    border-radius: 50%;\n",
              "    cursor: pointer;\n",
              "    display: none;\n",
              "    fill: var(--fill-color);\n",
              "    height: 32px;\n",
              "    padding: 0;\n",
              "    width: 32px;\n",
              "  }\n",
              "\n",
              "  .colab-df-quickchart:hover {\n",
              "    background-color: var(--hover-bg-color);\n",
              "    box-shadow: 0 1px 2px rgba(60, 64, 67, 0.3), 0 1px 3px 1px rgba(60, 64, 67, 0.15);\n",
              "    fill: var(--button-hover-fill-color);\n",
              "  }\n",
              "\n",
              "  .colab-df-quickchart-complete:disabled,\n",
              "  .colab-df-quickchart-complete:disabled:hover {\n",
              "    background-color: var(--disabled-bg-color);\n",
              "    fill: var(--disabled-fill-color);\n",
              "    box-shadow: none;\n",
              "  }\n",
              "\n",
              "  .colab-df-spinner {\n",
              "    border: 2px solid var(--fill-color);\n",
              "    border-color: transparent;\n",
              "    border-bottom-color: var(--fill-color);\n",
              "    animation:\n",
              "      spin 1s steps(1) infinite;\n",
              "  }\n",
              "\n",
              "  @keyframes spin {\n",
              "    0% {\n",
              "      border-color: transparent;\n",
              "      border-bottom-color: var(--fill-color);\n",
              "      border-left-color: var(--fill-color);\n",
              "    }\n",
              "    20% {\n",
              "      border-color: transparent;\n",
              "      border-left-color: var(--fill-color);\n",
              "      border-top-color: var(--fill-color);\n",
              "    }\n",
              "    30% {\n",
              "      border-color: transparent;\n",
              "      border-left-color: var(--fill-color);\n",
              "      border-top-color: var(--fill-color);\n",
              "      border-right-color: var(--fill-color);\n",
              "    }\n",
              "    40% {\n",
              "      border-color: transparent;\n",
              "      border-right-color: var(--fill-color);\n",
              "      border-top-color: var(--fill-color);\n",
              "    }\n",
              "    60% {\n",
              "      border-color: transparent;\n",
              "      border-right-color: var(--fill-color);\n",
              "    }\n",
              "    80% {\n",
              "      border-color: transparent;\n",
              "      border-right-color: var(--fill-color);\n",
              "      border-bottom-color: var(--fill-color);\n",
              "    }\n",
              "    90% {\n",
              "      border-color: transparent;\n",
              "      border-bottom-color: var(--fill-color);\n",
              "    }\n",
              "  }\n",
              "</style>\n",
              "\n",
              "  <script>\n",
              "    async function quickchart(key) {\n",
              "      const quickchartButtonEl =\n",
              "        document.querySelector('#' + key + ' button');\n",
              "      quickchartButtonEl.disabled = true;  // To prevent multiple clicks.\n",
              "      quickchartButtonEl.classList.add('colab-df-spinner');\n",
              "      try {\n",
              "        const charts = await google.colab.kernel.invokeFunction(\n",
              "            'suggestCharts', [key], {});\n",
              "      } catch (error) {\n",
              "        console.error('Error during call to suggestCharts:', error);\n",
              "      }\n",
              "      quickchartButtonEl.classList.remove('colab-df-spinner');\n",
              "      quickchartButtonEl.classList.add('colab-df-quickchart-complete');\n",
              "    }\n",
              "    (() => {\n",
              "      let quickchartButtonEl =\n",
              "        document.querySelector('#df-f418eecd-95f5-43df-978d-d3248faa167d button');\n",
              "      quickchartButtonEl.style.display =\n",
              "        google.colab.kernel.accessAllowed ? 'block' : 'none';\n",
              "    })();\n",
              "  </script>\n",
              "</div>\n",
              "\n",
              "    </div>\n",
              "  </div>\n"
            ],
            "application/vnd.google.colaboratory.intrinsic+json": {
              "type": "dataframe",
              "variable_name": "QURAN_DF",
              "summary": "{\n  \"name\": \"QURAN_DF\",\n  \"rows\": 293,\n  \"fields\": [\n    {\n      \"column\": \"Sura Number\",\n      \"properties\": {\n        \"dtype\": \"number\",\n        \"std\": 0,\n        \"min\": 1,\n        \"max\": 2,\n        \"num_unique_values\": 2,\n        \"samples\": [\n          2,\n          1\n        ],\n        \"semantic_type\": \"\",\n        \"description\": \"\"\n      }\n    },\n    {\n      \"column\": \"Ayah Number\",\n      \"properties\": {\n        \"dtype\": \"number\",\n        \"std\": 84,\n        \"min\": 1,\n        \"max\": 286,\n        \"num_unique_values\": 286,\n        \"samples\": [\n          10,\n          268\n        ],\n        \"semantic_type\": \"\",\n        \"description\": \"\"\n      }\n    },\n    {\n      \"column\": \"Text\",\n      \"properties\": {\n        \"dtype\": \"string\",\n        \"num_unique_values\": 291,\n        \"samples\": [\n          \"\\u0648\\u064e\\u0645\\u0650\\u0646\\u0652\\u0647\\u064f\\u0645\\u0652 \\u0623\\u064f\\u0645\\u0651\\u0650\\u064a\\u0651\\u064f\\u0648\\u0646\\u064e \\u0644\\u064e\\u0627 \\u064a\\u064e\\u0639\\u0652\\u0644\\u064e\\u0645\\u064f\\u0648\\u0646\\u064e \\u0671\\u0644\\u0652\\u0643\\u0650\\u062a\\u064e\\u0640\\u0670\\u0628\\u064e \\u0625\\u0650\\u0644\\u0651\\u064e\\u0627\\u0653 \\u0623\\u064e\\u0645\\u064e\\u0627\\u0646\\u0650\\u0649\\u0651\\u064e \\u0648\\u064e\\u0625\\u0650\\u0646\\u0652 \\u0647\\u064f\\u0645\\u0652 \\u0625\\u0650\\u0644\\u0651\\u064e\\u0627 \\u064a\\u064e\\u0638\\u064f\\u0646\\u0651\\u064f\\u0648\\u0646\\u064e\",\n          \"\\u0671\\u0644\\u0644\\u0651\\u064e\\u0647\\u064f \\u0644\\u064e\\u0627\\u0653 \\u0625\\u0650\\u0644\\u064e\\u0640\\u0670\\u0647\\u064e \\u0625\\u0650\\u0644\\u0651\\u064e\\u0627 \\u0647\\u064f\\u0648\\u064e \\u0671\\u0644\\u0652\\u062d\\u064e\\u0649\\u0651\\u064f \\u0671\\u0644\\u0652\\u0642\\u064e\\u064a\\u0651\\u064f\\u0648\\u0645\\u064f \\u06da \\u0644\\u064e\\u0627 \\u062a\\u064e\\u0623\\u0652\\u062e\\u064f\\u0630\\u064f\\u0647\\u064f\\u06e5 \\u0633\\u0650\\u0646\\u064e\\u0629\\u064c\\u06ed \\u0648\\u064e\\u0644\\u064e\\u0627 \\u0646\\u064e\\u0648\\u0652\\u0645\\u064c\\u06ed \\u06da \\u0644\\u0651\\u064e\\u0647\\u064f\\u06e5 \\u0645\\u064e\\u0627 \\u0641\\u0650\\u0649 \\u0671\\u0644\\u0633\\u0651\\u064e\\u0645\\u064e\\u0640\\u0670\\u0648\\u064e\\u0670\\u062a\\u0650 \\u0648\\u064e\\u0645\\u064e\\u0627 \\u0641\\u0650\\u0649 \\u0671\\u0644\\u0652\\u0623\\u064e\\u0631\\u0652\\u0636\\u0650 \\u06d7 \\u0645\\u064e\\u0646 \\u0630\\u064e\\u0627 \\u0671\\u0644\\u0651\\u064e\\u0630\\u0650\\u0649 \\u064a\\u064e\\u0634\\u0652\\u0641\\u064e\\u0639\\u064f \\u0639\\u0650\\u0646\\u062f\\u064e\\u0647\\u064f\\u06e5\\u0653 \\u0625\\u0650\\u0644\\u0651\\u064e\\u0627 \\u0628\\u0650\\u0625\\u0650\\u0630\\u0652\\u0646\\u0650\\u0647\\u0650\\u06e6 \\u06da \\u064a\\u064e\\u0639\\u0652\\u0644\\u064e\\u0645\\u064f \\u0645\\u064e\\u0627 \\u0628\\u064e\\u064a\\u0652\\u0646\\u064e \\u0623\\u064e\\u064a\\u0652\\u062f\\u0650\\u064a\\u0647\\u0650\\u0645\\u0652 \\u0648\\u064e\\u0645\\u064e\\u0627 \\u062e\\u064e\\u0644\\u0652\\u0641\\u064e\\u0647\\u064f\\u0645\\u0652 \\u06d6 \\u0648\\u064e\\u0644\\u064e\\u0627 \\u064a\\u064f\\u062d\\u0650\\u064a\\u0637\\u064f\\u0648\\u0646\\u064e \\u0628\\u0650\\u0634\\u064e\\u0649\\u0652\\u0621\\u064d\\u06e2 \\u0645\\u0651\\u0650\\u0646\\u0652 \\u0639\\u0650\\u0644\\u0652\\u0645\\u0650\\u0647\\u0650\\u06e6\\u0653 \\u0625\\u0650\\u0644\\u0651\\u064e\\u0627 \\u0628\\u0650\\u0645\\u064e\\u0627 \\u0634\\u064e\\u0627\\u0653\\u0621\\u064e \\u06da \\u0648\\u064e\\u0633\\u0650\\u0639\\u064e \\u0643\\u064f\\u0631\\u0652\\u0633\\u0650\\u064a\\u0651\\u064f\\u0647\\u064f \\u0671\\u0644\\u0633\\u0651\\u064e\\u0645\\u064e\\u0640\\u0670\\u0648\\u064e\\u0670\\u062a\\u0650 \\u0648\\u064e\\u0671\\u0644\\u0652\\u0623\\u064e\\u0631\\u0652\\u0636\\u064e \\u06d6 \\u0648\\u064e\\u0644\\u064e\\u0627 \\u064a\\u064e\\u0640\\u0654\\u064f\\u0648\\u062f\\u064f\\u0647\\u064f\\u06e5 \\u062d\\u0650\\u0641\\u0652\\u0638\\u064f\\u0647\\u064f\\u0645\\u064e\\u0627 \\u06da \\u0648\\u064e\\u0647\\u064f\\u0648\\u064e \\u0671\\u0644\\u0652\\u0639\\u064e\\u0644\\u0650\\u0649\\u0651\\u064f \\u0671\\u0644\\u0652\\u0639\\u064e\\u0638\\u0650\\u064a\\u0645\\u064f\"\n        ],\n        \"semantic_type\": \"\",\n        \"description\": \"\"\n      }\n    },\n    {\n      \"column\": \"Cleaned Text\",\n      \"properties\": {\n        \"dtype\": \"string\",\n        \"num_unique_values\": 291,\n        \"samples\": [\n          \"\\u0648\\u064e\\u0645\\u0650\\u0646\\u0652\\u0647\\u064f\\u0645\\u0652 \\u0627\\u064f\\u0645\\u0651\\u0650\\u064a\\u0651\\u064f\\u0648\\u0646\\u064e \\u0644\\u064e\\u0627 \\u064a\\u064e\\u0639\\u0652\\u0644\\u064e\\u0645\\u064f\\u0648\\u0646\\u064e \\u0627\\u0644\\u0652\\u0643\\u0650\\u062a\\u064e\\u0640\\u0670\\u0628\\u064e \\u0627\\u0650\\u0644\\u0651\\u064e\\u0627\\u0653 \\u0627\\u064e\\u0645\\u064e\\u0627\\u0646\\u0650\\u064a\\u0651\\u064e \\u0648\\u064e\\u0627\\u0650\\u0646\\u0652 \\u0647\\u064f\\u0645\\u0652 \\u0627\\u0650\\u0644\\u0651\\u064e\\u0627 \\u064a\\u064e\\u0638\\u064f\\u0646\\u0651\\u064f\\u0648\\u0646\\u064e\",\n          \"\\u0627\\u0644\\u0644\\u0651\\u064e\\u0647\\u064f \\u0644\\u064e\\u0627\\u0653 \\u0627\\u0650\\u0644\\u064e\\u0640\\u0670\\u0647\\u064e \\u0627\\u0650\\u0644\\u0651\\u064e\\u0627 \\u0647\\u064f\\u0648\\u064e \\u0627\\u0644\\u0652\\u062d\\u064e\\u064a\\u0651\\u064f \\u0627\\u0644\\u0652\\u0642\\u064e\\u064a\\u0651\\u064f\\u0648\\u0645\\u064f \\u0644\\u064e\\u0627 \\u062a\\u064e\\u0627\\u0652\\u062e\\u064f\\u0630\\u064f\\u0647\\u064f\\u06e5 \\u0633\\u0650\\u0646\\u064e\\u0629\\u064c\\u06ed \\u0648\\u064e\\u0644\\u064e\\u0627 \\u0646\\u064e\\u0648\\u0652\\u0645\\u064c\\u06ed \\u0644\\u0651\\u064e\\u0647\\u064f\\u06e5 \\u0645\\u064e\\u0627 \\u0641\\u0650\\u064a \\u0627\\u0644\\u0633\\u0651\\u064e\\u0645\\u064e\\u0640\\u0670\\u0648\\u064e\\u0670\\u062a\\u0650 \\u0648\\u064e\\u0645\\u064e\\u0627 \\u0641\\u0650\\u064a \\u0627\\u0644\\u0652\\u0627\\u064e\\u0631\\u0652\\u0636\\u0650 \\u0645\\u064e\\u0646 \\u0630\\u064e\\u0627 \\u0627\\u0644\\u0651\\u064e\\u0630\\u0650\\u064a \\u064a\\u064e\\u0634\\u0652\\u0641\\u064e\\u0639\\u064f \\u0639\\u0650\\u0646\\u062f\\u064e\\u0647\\u064f\\u06e5\\u0653 \\u0627\\u0650\\u0644\\u0651\\u064e\\u0627 \\u0628\\u0650\\u0627\\u0650\\u0630\\u0652\\u0646\\u0650\\u0647\\u0650\\u06e6 \\u064a\\u064e\\u0639\\u0652\\u0644\\u064e\\u0645\\u064f \\u0645\\u064e\\u0627 \\u0628\\u064e\\u064a\\u0652\\u0646\\u064e \\u0627\\u064e\\u064a\\u0652\\u062f\\u0650\\u064a\\u0647\\u0650\\u0645\\u0652 \\u0648\\u064e\\u0645\\u064e\\u0627 \\u062e\\u064e\\u0644\\u0652\\u0641\\u064e\\u0647\\u064f\\u0645\\u0652 \\u0648\\u064e\\u0644\\u064e\\u0627 \\u064a\\u064f\\u062d\\u0650\\u064a\\u0637\\u064f\\u0648\\u0646\\u064e \\u0628\\u0650\\u0634\\u064e\\u064a\\u0652\\u0621\\u064d\\u06e2 \\u0645\\u0651\\u0650\\u0646\\u0652 \\u0639\\u0650\\u0644\\u0652\\u0645\\u0650\\u0647\\u0650\\u06e6\\u0653 \\u0627\\u0650\\u0644\\u0651\\u064e\\u0627 \\u0628\\u0650\\u0645\\u064e\\u0627 \\u0634\\u064e\\u0627\\u0653\\u0621\\u064e \\u0648\\u064e\\u0633\\u0650\\u0639\\u064e \\u0643\\u064f\\u0631\\u0652\\u0633\\u0650\\u064a\\u0651\\u064f\\u0647\\u064f \\u0627\\u0644\\u0633\\u0651\\u064e\\u0645\\u064e\\u0640\\u0670\\u0648\\u064e\\u0670\\u062a\\u0650 \\u0648\\u064e\\u0627\\u0644\\u0652\\u0627\\u064e\\u0631\\u0652\\u0636\\u064e \\u0648\\u064e\\u0644\\u064e\\u0627 \\u064a\\u064e\\u0640\\u0654\\u064f\\u0648\\u062f\\u064f\\u0647\\u064f\\u06e5 \\u062d\\u0650\\u0641\\u0652\\u0638\\u064f\\u0647\\u064f\\u0645\\u064e\\u0627 \\u0648\\u064e\\u0647\\u064f\\u0648\\u064e \\u0627\\u0644\\u0652\\u0639\\u064e\\u0644\\u0650\\u064a\\u0651\\u064f \\u0627\\u0644\\u0652\\u0639\\u064e\\u0638\\u0650\\u064a\\u0645\\u064f\"\n        ],\n        \"semantic_type\": \"\",\n        \"description\": \"\"\n      }\n    },\n    {\n      \"column\": \"Tokens\",\n      \"properties\": {\n        \"dtype\": \"string\",\n        \"num_unique_values\": 291,\n        \"samples\": [\n          \"['\\u0648\\u064e\\u0645\\u0650\\u0646\\u0652\\u0647\\u064f\\u0645\\u0652', '\\u0627\\u064f\\u0645\\u0651\\u0650\\u064a\\u0651\\u064f\\u0648\\u0646\\u064e', '\\u0644\\u064e\\u0627', '\\u064a\\u064e\\u0639\\u0652\\u0644\\u064e\\u0645\\u064f\\u0648\\u0646\\u064e', '\\u0627\\u0644\\u0652\\u0643\\u0650\\u062a\\u064e\\u0640\\u0670\\u0628\\u064e', '\\u0627\\u0650\\u0644\\u0651\\u064e\\u0627\\u0653', '\\u0627\\u064e\\u0645\\u064e\\u0627\\u0646\\u0650\\u064a\\u0651\\u064e', '\\u0648\\u064e\\u0627\\u0650\\u0646\\u0652', '\\u0647\\u064f\\u0645\\u0652', '\\u0627\\u0650\\u0644\\u0651\\u064e\\u0627', '\\u064a\\u064e\\u0638\\u064f\\u0646\\u0651\\u064f\\u0648\\u0646\\u064e']\",\n          \"['\\u0627\\u0644\\u0644\\u0651\\u064e\\u0647\\u064f', '\\u0644\\u064e\\u0627\\u0653', '\\u0627\\u0650\\u0644\\u064e\\u0640\\u0670\\u0647\\u064e', '\\u0627\\u0650\\u0644\\u0651\\u064e\\u0627', '\\u0647\\u064f\\u0648\\u064e', '\\u0627\\u0644\\u0652\\u062d\\u064e\\u064a\\u0651\\u064f', '\\u0627\\u0644\\u0652\\u0642\\u064e\\u064a\\u0651\\u064f\\u0648\\u0645\\u064f', '\\u0644\\u064e\\u0627', '\\u062a\\u064e\\u0627\\u0652\\u062e\\u064f\\u0630\\u064f\\u0647\\u064f\\u06e5', '\\u0633\\u0650\\u0646\\u064e\\u0629\\u064c\\u06ed', '\\u0648\\u064e\\u0644\\u064e\\u0627', '\\u0646\\u064e\\u0648\\u0652\\u0645\\u064c\\u06ed', '\\u0644\\u0651\\u064e\\u0647\\u064f\\u06e5', '\\u0645\\u064e\\u0627', '\\u0641\\u0650\\u064a', '\\u0627\\u0644\\u0633\\u0651\\u064e\\u0645\\u064e\\u0640\\u0670\\u0648\\u064e\\u0670\\u062a\\u0650', '\\u0648\\u064e\\u0645\\u064e\\u0627', '\\u0641\\u0650\\u064a', '\\u0627\\u0644\\u0652\\u0627\\u064e\\u0631\\u0652\\u0636\\u0650', '\\u0645\\u064e\\u0646', '\\u0630\\u064e\\u0627', '\\u0627\\u0644\\u0651\\u064e\\u0630\\u0650\\u064a', '\\u064a\\u064e\\u0634\\u0652\\u0641\\u064e\\u0639\\u064f', '\\u0639\\u0650\\u0646\\u062f\\u064e\\u0647\\u064f\\u06e5\\u0653', '\\u0627\\u0650\\u0644\\u0651\\u064e\\u0627', '\\u0628\\u0650\\u0627\\u0650\\u0630\\u0652\\u0646\\u0650\\u0647\\u0650\\u06e6', '\\u064a\\u064e\\u0639\\u0652\\u0644\\u064e\\u0645\\u064f', '\\u0645\\u064e\\u0627', '\\u0628\\u064e\\u064a\\u0652\\u0646\\u064e', '\\u0627\\u064e\\u064a\\u0652\\u062f\\u0650\\u064a\\u0647\\u0650\\u0645\\u0652', '\\u0648\\u064e\\u0645\\u064e\\u0627', '\\u062e\\u064e\\u0644\\u0652\\u0641\\u064e\\u0647\\u064f\\u0645\\u0652', '\\u0648\\u064e\\u0644\\u064e\\u0627', '\\u064a\\u064f\\u062d\\u0650\\u064a\\u0637\\u064f\\u0648\\u0646\\u064e', '\\u0628\\u0650\\u0634\\u064e\\u064a\\u0652\\u0621\\u064d\\u06e2', '\\u0645\\u0651\\u0650\\u0646\\u0652', '\\u0639\\u0650\\u0644\\u0652\\u0645\\u0650\\u0647\\u0650\\u06e6\\u0653', '\\u0627\\u0650\\u0644\\u0651\\u064e\\u0627', '\\u0628\\u0650\\u0645\\u064e\\u0627', '\\u0634\\u064e\\u0627\\u0653\\u0621\\u064e', '\\u0648\\u064e\\u0633\\u0650\\u0639\\u064e', '\\u0643\\u064f\\u0631\\u0652\\u0633\\u0650\\u064a\\u0651\\u064f\\u0647\\u064f', '\\u0627\\u0644\\u0633\\u0651\\u064e\\u0645\\u064e\\u0640\\u0670\\u0648\\u064e\\u0670\\u062a\\u0650', '\\u0648\\u064e\\u0627\\u0644\\u0652\\u0627\\u064e\\u0631\\u0652\\u0636\\u064e', '\\u0648\\u064e\\u0644\\u064e\\u0627', '\\u064a\\u064e\\u0640\\u0654\\u064f\\u0648\\u062f\\u064f\\u0647\\u064f\\u06e5', '\\u062d\\u0650\\u0641\\u0652\\u0638\\u064f\\u0647\\u064f\\u0645\\u064e\\u0627', '\\u0648\\u064e\\u0647\\u064f\\u0648\\u064e', '\\u0627\\u0644\\u0652\\u0639\\u064e\\u0644\\u0650\\u064a\\u0651\\u064f', '\\u0627\\u0644\\u0652\\u0639\\u064e\\u0638\\u0650\\u064a\\u0645\\u064f']\"\n        ],\n        \"semantic_type\": \"\",\n        \"description\": \"\"\n      }\n    },\n    {\n      \"column\": \"Token_POS\",\n      \"properties\": {\n        \"dtype\": \"string\",\n        \"num_unique_values\": 291,\n        \"samples\": [\n          \"{'\\u0648\\u064e\\u0645\\u0650\\u0646\\u0652\\u0647\\u064f\\u0645\\u0652': 'REM+P+PRON', '\\u0627\\u064f\\u0645\\u0651\\u0650\\u064a\\u0651\\u064f\\u0648\\u0646\\u064e': 'N', '\\u0644\\u064e\\u0627': 'NEG', '\\u064a\\u064e\\u0639\\u0652\\u0644\\u064e\\u0645\\u064f\\u0648\\u0646\\u064e': 'V+PRON', '\\u0627\\u0644\\u0652\\u0643\\u0650\\u062a\\u064e\\u0640\\u0670\\u0628\\u064e': 'DET+N', '\\u0627\\u0650\\u0644\\u0651\\u064e\\u0627\\u0653': 'EXP', '\\u0627\\u064e\\u0645\\u064e\\u0627\\u0646\\u0650\\u064a\\u0651\\u064e': 'N', '\\u0648\\u064e\\u0627\\u0650\\u0646\\u0652': 'REM+NEG', '\\u0647\\u064f\\u0645\\u0652': 'PRON', '\\u0627\\u0650\\u0644\\u0651\\u064e\\u0627': 'EXP', '\\u064a\\u064e\\u0638\\u064f\\u0646\\u0651\\u064f\\u0648\\u0646\\u064e': 'V+PRON'}\",\n          \"{'\\u0627\\u0644\\u0644\\u0651\\u064e\\u0647\\u064f': 'PN', '\\u0644\\u064e\\u0627\\u0653': 'NEG', '\\u0627\\u0650\\u0644\\u064e\\u0640\\u0670\\u0647\\u064e': 'N', '\\u0627\\u0650\\u0644\\u0651\\u064e\\u0627': 'RES', '\\u0647\\u064f\\u0648\\u064e': 'PRON', '\\u0627\\u0644\\u0652\\u062d\\u064e\\u064a\\u0651\\u064f': 'DET+N', '\\u0627\\u0644\\u0652\\u0642\\u064e\\u064a\\u0651\\u064f\\u0648\\u0645\\u064f': 'DET+ADJ', '\\u0644\\u064e\\u0627': 'NEG', '\\u062a\\u064e\\u0627\\u0652\\u062e\\u064f\\u0630\\u064f\\u0647\\u064f\\u06e5': 'V+PRON', '\\u0633\\u0650\\u0646\\u064e\\u0629\\u064c\\u06ed': 'N', '\\u0648\\u064e\\u0644\\u064e\\u0627': 'REM+NEG', '\\u0646\\u064e\\u0648\\u0652\\u0645\\u064c\\u06ed': 'N', '\\u0644\\u0651\\u064e\\u0647\\u064f\\u06e5': 'P+PRON', '\\u0645\\u064e\\u0627': 'REL', '\\u0641\\u0650\\u064a': 'P', '\\u0627\\u0644\\u0633\\u0651\\u064e\\u0645\\u064e\\u0640\\u0670\\u0648\\u064e\\u0670\\u062a\\u0650': 'DET+N', '\\u0648\\u064e\\u0645\\u064e\\u0627': 'CONJ+REL', '\\u0627\\u0644\\u0652\\u0627\\u064e\\u0631\\u0652\\u0636\\u0650': 'DET+N', '\\u0645\\u064e\\u0646': 'INTG', '\\u0630\\u064e\\u0627': 'DEM', '\\u0627\\u0644\\u0651\\u064e\\u0630\\u0650\\u064a': 'REL', '\\u064a\\u064e\\u0634\\u0652\\u0641\\u064e\\u0639\\u064f': 'V', '\\u0639\\u0650\\u0646\\u062f\\u064e\\u0647\\u064f\\u06e5\\u0653': 'LOC+PRON', '\\u0628\\u0650\\u0627\\u0650\\u0630\\u0652\\u0646\\u0650\\u0647\\u0650\\u06e6': 'P+N+PRON', '\\u064a\\u064e\\u0639\\u0652\\u0644\\u064e\\u0645\\u064f': 'V', '\\u0628\\u064e\\u064a\\u0652\\u0646\\u064e': 'LOC', '\\u0627\\u064e\\u064a\\u0652\\u062f\\u0650\\u064a\\u0647\\u0650\\u0645\\u0652': 'N+PRON', '\\u062e\\u064e\\u0644\\u0652\\u0641\\u064e\\u0647\\u064f\\u0645\\u0652': 'LOC+PRON', '\\u064a\\u064f\\u062d\\u0650\\u064a\\u0637\\u064f\\u0648\\u0646\\u064e': 'V+PRON', '\\u0628\\u0650\\u0634\\u064e\\u064a\\u0652\\u0621\\u064d\\u06e2': 'P+N', '\\u0645\\u0651\\u0650\\u0646\\u0652': 'P', '\\u0639\\u0650\\u0644\\u0652\\u0645\\u0650\\u0647\\u0650\\u06e6\\u0653': 'N+PRON', '\\u0628\\u0650\\u0645\\u064e\\u0627': 'P+REL', '\\u0634\\u064e\\u0627\\u0653\\u0621\\u064e': 'V', '\\u0648\\u064e\\u0633\\u0650\\u0639\\u064e': 'V', '\\u0643\\u064f\\u0631\\u0652\\u0633\\u0650\\u064a\\u0651\\u064f\\u0647\\u064f': 'N+PRON', '\\u0648\\u064e\\u0627\\u0644\\u0652\\u0627\\u064e\\u0631\\u0652\\u0636\\u064e': 'CONJ+DET+N', '\\u064a\\u064e\\u0640\\u0654\\u064f\\u0648\\u062f\\u064f\\u0647\\u064f\\u06e5': 'V+PRON', '\\u062d\\u0650\\u0641\\u0652\\u0638\\u064f\\u0647\\u064f\\u0645\\u064e\\u0627': 'N+PRON', '\\u0648\\u064e\\u0647\\u064f\\u0648\\u064e': 'REM+PRON', '\\u0627\\u0644\\u0652\\u0639\\u064e\\u0644\\u0650\\u064a\\u0651\\u064f': 'DET+N', '\\u0627\\u0644\\u0652\\u0639\\u064e\\u0638\\u0650\\u064a\\u0645\\u064f': 'DET+ADJ'}\"\n        ],\n        \"semantic_type\": \"\",\n        \"description\": \"\"\n      }\n    },\n    {\n      \"column\": \"POS_Tags\",\n      \"properties\": {\n        \"dtype\": \"string\",\n        \"num_unique_values\": 291,\n        \"samples\": [\n          \"['REM+P+PRON', 'N', 'NEG', 'V+PRON', 'DET+N', 'EXP', 'N', 'REM+NEG', 'PRON', 'EXP', 'V+PRON']\",\n          \"['PN', 'NEG', 'N', 'RES', 'PRON', 'DET+N', 'DET+ADJ', 'NEG', 'V+PRON', 'N', 'REM+NEG', 'N', 'P+PRON', 'REL', 'P', 'DET+N', 'CONJ+REL', 'DET+N', 'INTG', 'DEM', 'REL', 'V', 'LOC+PRON', 'P+N+PRON', 'V', 'LOC', 'N+PRON', 'LOC+PRON', 'V+PRON', 'P+N', 'P', 'N+PRON', 'P+REL', 'V', 'V', 'N+PRON', 'CONJ+DET+N', 'V+PRON', 'N+PRON', 'REM+PRON', 'DET+N', 'DET+ADJ']\"\n        ],\n        \"semantic_type\": \"\",\n        \"description\": \"\"\n      }\n    },\n    {\n      \"column\": \"Token_POS_Sura_Ayah\",\n      \"properties\": {\n        \"dtype\": \"string\",\n        \"num_unique_values\": 293,\n        \"samples\": [\n          \"[('\\u0648\\u064e\\u0645\\u0650\\u0646\\u0652\\u0647\\u064f\\u0645\\u0652', 'REM+P+PRON', 2, 78), ('\\u0627\\u064f\\u0645\\u0651\\u0650\\u064a\\u0651\\u064f\\u0648\\u0646\\u064e', 'N', 2, 78), ('\\u0644\\u064e\\u0627', 'NEG', 2, 78), ('\\u064a\\u064e\\u0639\\u0652\\u0644\\u064e\\u0645\\u064f\\u0648\\u0646\\u064e', 'V+PRON', 2, 78), ('\\u0627\\u0644\\u0652\\u0643\\u0650\\u062a\\u064e\\u0640\\u0670\\u0628\\u064e', 'DET+N', 2, 78), ('\\u0627\\u0650\\u0644\\u0651\\u064e\\u0627\\u0653', 'EXP', 2, 78), ('\\u0627\\u064e\\u0645\\u064e\\u0627\\u0646\\u0650\\u064a\\u0651\\u064e', 'N', 2, 78), ('\\u0648\\u064e\\u0627\\u0650\\u0646\\u0652', 'REM+NEG', 2, 78), ('\\u0647\\u064f\\u0645\\u0652', 'PRON', 2, 78), ('\\u0627\\u0650\\u0644\\u0651\\u064e\\u0627', 'EXP', 2, 78), ('\\u064a\\u064e\\u0638\\u064f\\u0646\\u0651\\u064f\\u0648\\u0646\\u064e', 'V+PRON', 2, 78)]\",\n          \"[('\\u064a\\u064e\\u0640\\u0670\\u0653\\u0627\\u064e\\u064a\\u0651\\u064f\\u0647\\u064e\\u0627', 'VOC+N', 2, 254), ('\\u0627\\u0644\\u0651\\u064e\\u0630\\u0650\\u064a\\u0646\\u064e', 'REL', 2, 254), ('\\u0621\\u064e\\u0627\\u0645\\u064e\\u0646\\u064f\\u0648\\u0653\\u0627\\u06df', 'V+PRON', 2, 254), ('\\u0627\\u064e\\u0646\\u0641\\u0650\\u0642\\u064f\\u0648\\u0627\\u06df', 'V+PRON', 2, 254), ('\\u0645\\u0650\\u0645\\u0651\\u064e\\u0627', 'P+REL', 2, 254), ('\\u0631\\u064e\\u0632\\u064e\\u0642\\u0652\\u0646\\u064e\\u0640\\u0670\\u0643\\u064f\\u0645', 'V+PRON+PRON', 2, 254), ('\\u0645\\u0651\\u0650\\u0646', 'P', 2, 254), ('\\u0642\\u064e\\u0628\\u0652\\u0644\\u0650', 'N', 2, 254), ('\\u0627\\u064e\\u0646', 'SUB', 2, 254), ('\\u064a\\u064e\\u0627\\u0652\\u062a\\u0650\\u064a\\u064e', 'V', 2, 254), ('\\u064a\\u064e\\u0648\\u0652\\u0645\\u064c\\u06ed', 'N', 2, 254), ('\\u0644\\u0651\\u064e\\u0627', 'NEG', 2, 254), ('\\u0628\\u064e\\u064a\\u0652\\u0639\\u064c\\u06ed', 'N', 2, 254), ('\\u0641\\u0650\\u064a\\u0647\\u0650', 'P+PRON', 2, 254), ('\\u0648\\u064e\\u0644\\u064e\\u0627', 'CONJ+NEG', 2, 254), ('\\u062e\\u064f\\u0644\\u0651\\u064e\\u0629\\u064c\\u06ed', 'N', 2, 254), ('\\u0648\\u064e\\u0644\\u064e\\u0627', 'CONJ+NEG', 2, 254), ('\\u0634\\u064e\\u0641\\u064e\\u0640\\u0670\\u0639\\u064e\\u0629\\u064c\\u06ed', 'N', 2, 254), ('\\u0648\\u064e\\u0627\\u0644\\u0652\\u0643\\u064e\\u0640\\u0670\\u0641\\u0650\\u0631\\u064f\\u0648\\u0646\\u064e', 'REM+DET+N', 2, 254), ('\\u0647\\u064f\\u0645\\u064f', 'PRON', 2, 254), ('\\u0627\\u0644\\u0638\\u0651\\u064e\\u0640\\u0670\\u0644\\u0650\\u0645\\u064f\\u0648\\u0646\\u064e', 'DET+N', 2, 254)]\"\n        ],\n        \"semantic_type\": \"\",\n        \"description\": \"\"\n      }\n    }\n  ]\n}"
            }
          },
          "metadata": {},
          "execution_count": 86
        }
      ]
    },
    {
      "cell_type": "code",
      "source": [
        "tokenized_text = QURAN_DF['Tokens'].apply(ast.literal_eval)\n",
        "pd.DataFrame(tokenized_text.head())"
      ],
      "metadata": {
        "colab": {
          "base_uri": "https://localhost:8080/",
          "height": 206
        },
        "id": "692DscOHUGOn",
        "outputId": "11294d7d-ba81-4e6d-d21e-7228bcbf7e4b"
      },
      "execution_count": null,
      "outputs": [
        {
          "output_type": "display_data",
          "data": {
            "text/plain": [
              "<IPython.core.display.HTML object>"
            ],
            "text/html": [
              "\n",
              "  <style>\n",
              "    pre {\n",
              "        white-space: pre-wrap;\n",
              "    }\n",
              "  </style>\n",
              "  "
            ]
          },
          "metadata": {}
        },
        {
          "output_type": "execute_result",
          "data": {
            "text/plain": [
              "                                          Tokens\n",
              "0   [بِسْمِ, اللَّهِ, الرَّحْمَـٰنِ, الرَّحِيمِ]\n",
              "1    [الْحَمْدُ, لِلَّهِ, رَبِّ, الْعَـٰلَمِينَ]\n",
              "2                    [الرَّحْمَـٰنِ, الرَّحِيمِ]\n",
              "3                   [مَـٰلِكِ, يَوْمِ, الدِّينِ]\n",
              "4  [اِيَّاكَ, نَعْبُدُ, وَاِيَّاكَ, نَسْتَعِينُ]"
            ],
            "text/html": [
              "\n",
              "  <div id=\"df-4d1a8cde-944b-4ecf-8266-a71ce8c75cd9\" class=\"colab-df-container\">\n",
              "    <div>\n",
              "<style scoped>\n",
              "    .dataframe tbody tr th:only-of-type {\n",
              "        vertical-align: middle;\n",
              "    }\n",
              "\n",
              "    .dataframe tbody tr th {\n",
              "        vertical-align: top;\n",
              "    }\n",
              "\n",
              "    .dataframe thead th {\n",
              "        text-align: right;\n",
              "    }\n",
              "</style>\n",
              "<table border=\"1\" class=\"dataframe\">\n",
              "  <thead>\n",
              "    <tr style=\"text-align: right;\">\n",
              "      <th></th>\n",
              "      <th>Tokens</th>\n",
              "    </tr>\n",
              "  </thead>\n",
              "  <tbody>\n",
              "    <tr>\n",
              "      <th>0</th>\n",
              "      <td>[بِسْمِ, اللَّهِ, الرَّحْمَـٰنِ, الرَّحِيمِ]</td>\n",
              "    </tr>\n",
              "    <tr>\n",
              "      <th>1</th>\n",
              "      <td>[الْحَمْدُ, لِلَّهِ, رَبِّ, الْعَـٰلَمِينَ]</td>\n",
              "    </tr>\n",
              "    <tr>\n",
              "      <th>2</th>\n",
              "      <td>[الرَّحْمَـٰنِ, الرَّحِيمِ]</td>\n",
              "    </tr>\n",
              "    <tr>\n",
              "      <th>3</th>\n",
              "      <td>[مَـٰلِكِ, يَوْمِ, الدِّينِ]</td>\n",
              "    </tr>\n",
              "    <tr>\n",
              "      <th>4</th>\n",
              "      <td>[اِيَّاكَ, نَعْبُدُ, وَاِيَّاكَ, نَسْتَعِينُ]</td>\n",
              "    </tr>\n",
              "  </tbody>\n",
              "</table>\n",
              "</div>\n",
              "    <div class=\"colab-df-buttons\">\n",
              "\n",
              "  <div class=\"colab-df-container\">\n",
              "    <button class=\"colab-df-convert\" onclick=\"convertToInteractive('df-4d1a8cde-944b-4ecf-8266-a71ce8c75cd9')\"\n",
              "            title=\"Convert this dataframe to an interactive table.\"\n",
              "            style=\"display:none;\">\n",
              "\n",
              "  <svg xmlns=\"http://www.w3.org/2000/svg\" height=\"24px\" viewBox=\"0 -960 960 960\">\n",
              "    <path d=\"M120-120v-720h720v720H120Zm60-500h600v-160H180v160Zm220 220h160v-160H400v160Zm0 220h160v-160H400v160ZM180-400h160v-160H180v160Zm440 0h160v-160H620v160ZM180-180h160v-160H180v160Zm440 0h160v-160H620v160Z\"/>\n",
              "  </svg>\n",
              "    </button>\n",
              "\n",
              "  <style>\n",
              "    .colab-df-container {\n",
              "      display:flex;\n",
              "      gap: 12px;\n",
              "    }\n",
              "\n",
              "    .colab-df-convert {\n",
              "      background-color: #E8F0FE;\n",
              "      border: none;\n",
              "      border-radius: 50%;\n",
              "      cursor: pointer;\n",
              "      display: none;\n",
              "      fill: #1967D2;\n",
              "      height: 32px;\n",
              "      padding: 0 0 0 0;\n",
              "      width: 32px;\n",
              "    }\n",
              "\n",
              "    .colab-df-convert:hover {\n",
              "      background-color: #E2EBFA;\n",
              "      box-shadow: 0px 1px 2px rgba(60, 64, 67, 0.3), 0px 1px 3px 1px rgba(60, 64, 67, 0.15);\n",
              "      fill: #174EA6;\n",
              "    }\n",
              "\n",
              "    .colab-df-buttons div {\n",
              "      margin-bottom: 4px;\n",
              "    }\n",
              "\n",
              "    [theme=dark] .colab-df-convert {\n",
              "      background-color: #3B4455;\n",
              "      fill: #D2E3FC;\n",
              "    }\n",
              "\n",
              "    [theme=dark] .colab-df-convert:hover {\n",
              "      background-color: #434B5C;\n",
              "      box-shadow: 0px 1px 3px 1px rgba(0, 0, 0, 0.15);\n",
              "      filter: drop-shadow(0px 1px 2px rgba(0, 0, 0, 0.3));\n",
              "      fill: #FFFFFF;\n",
              "    }\n",
              "  </style>\n",
              "\n",
              "    <script>\n",
              "      const buttonEl =\n",
              "        document.querySelector('#df-4d1a8cde-944b-4ecf-8266-a71ce8c75cd9 button.colab-df-convert');\n",
              "      buttonEl.style.display =\n",
              "        google.colab.kernel.accessAllowed ? 'block' : 'none';\n",
              "\n",
              "      async function convertToInteractive(key) {\n",
              "        const element = document.querySelector('#df-4d1a8cde-944b-4ecf-8266-a71ce8c75cd9');\n",
              "        const dataTable =\n",
              "          await google.colab.kernel.invokeFunction('convertToInteractive',\n",
              "                                                    [key], {});\n",
              "        if (!dataTable) return;\n",
              "\n",
              "        const docLinkHtml = 'Like what you see? Visit the ' +\n",
              "          '<a target=\"_blank\" href=https://colab.research.google.com/notebooks/data_table.ipynb>data table notebook</a>'\n",
              "          + ' to learn more about interactive tables.';\n",
              "        element.innerHTML = '';\n",
              "        dataTable['output_type'] = 'display_data';\n",
              "        await google.colab.output.renderOutput(dataTable, element);\n",
              "        const docLink = document.createElement('div');\n",
              "        docLink.innerHTML = docLinkHtml;\n",
              "        element.appendChild(docLink);\n",
              "      }\n",
              "    </script>\n",
              "  </div>\n",
              "\n",
              "\n",
              "<div id=\"df-e0e10974-3ae9-4cb3-b696-c7f4e3ce507e\">\n",
              "  <button class=\"colab-df-quickchart\" onclick=\"quickchart('df-e0e10974-3ae9-4cb3-b696-c7f4e3ce507e')\"\n",
              "            title=\"Suggest charts\"\n",
              "            style=\"display:none;\">\n",
              "\n",
              "<svg xmlns=\"http://www.w3.org/2000/svg\" height=\"24px\"viewBox=\"0 0 24 24\"\n",
              "     width=\"24px\">\n",
              "    <g>\n",
              "        <path d=\"M19 3H5c-1.1 0-2 .9-2 2v14c0 1.1.9 2 2 2h14c1.1 0 2-.9 2-2V5c0-1.1-.9-2-2-2zM9 17H7v-7h2v7zm4 0h-2V7h2v10zm4 0h-2v-4h2v4z\"/>\n",
              "    </g>\n",
              "</svg>\n",
              "  </button>\n",
              "\n",
              "<style>\n",
              "  .colab-df-quickchart {\n",
              "      --bg-color: #E8F0FE;\n",
              "      --fill-color: #1967D2;\n",
              "      --hover-bg-color: #E2EBFA;\n",
              "      --hover-fill-color: #174EA6;\n",
              "      --disabled-fill-color: #AAA;\n",
              "      --disabled-bg-color: #DDD;\n",
              "  }\n",
              "\n",
              "  [theme=dark] .colab-df-quickchart {\n",
              "      --bg-color: #3B4455;\n",
              "      --fill-color: #D2E3FC;\n",
              "      --hover-bg-color: #434B5C;\n",
              "      --hover-fill-color: #FFFFFF;\n",
              "      --disabled-bg-color: #3B4455;\n",
              "      --disabled-fill-color: #666;\n",
              "  }\n",
              "\n",
              "  .colab-df-quickchart {\n",
              "    background-color: var(--bg-color);\n",
              "    border: none;\n",
              "    border-radius: 50%;\n",
              "    cursor: pointer;\n",
              "    display: none;\n",
              "    fill: var(--fill-color);\n",
              "    height: 32px;\n",
              "    padding: 0;\n",
              "    width: 32px;\n",
              "  }\n",
              "\n",
              "  .colab-df-quickchart:hover {\n",
              "    background-color: var(--hover-bg-color);\n",
              "    box-shadow: 0 1px 2px rgba(60, 64, 67, 0.3), 0 1px 3px 1px rgba(60, 64, 67, 0.15);\n",
              "    fill: var(--button-hover-fill-color);\n",
              "  }\n",
              "\n",
              "  .colab-df-quickchart-complete:disabled,\n",
              "  .colab-df-quickchart-complete:disabled:hover {\n",
              "    background-color: var(--disabled-bg-color);\n",
              "    fill: var(--disabled-fill-color);\n",
              "    box-shadow: none;\n",
              "  }\n",
              "\n",
              "  .colab-df-spinner {\n",
              "    border: 2px solid var(--fill-color);\n",
              "    border-color: transparent;\n",
              "    border-bottom-color: var(--fill-color);\n",
              "    animation:\n",
              "      spin 1s steps(1) infinite;\n",
              "  }\n",
              "\n",
              "  @keyframes spin {\n",
              "    0% {\n",
              "      border-color: transparent;\n",
              "      border-bottom-color: var(--fill-color);\n",
              "      border-left-color: var(--fill-color);\n",
              "    }\n",
              "    20% {\n",
              "      border-color: transparent;\n",
              "      border-left-color: var(--fill-color);\n",
              "      border-top-color: var(--fill-color);\n",
              "    }\n",
              "    30% {\n",
              "      border-color: transparent;\n",
              "      border-left-color: var(--fill-color);\n",
              "      border-top-color: var(--fill-color);\n",
              "      border-right-color: var(--fill-color);\n",
              "    }\n",
              "    40% {\n",
              "      border-color: transparent;\n",
              "      border-right-color: var(--fill-color);\n",
              "      border-top-color: var(--fill-color);\n",
              "    }\n",
              "    60% {\n",
              "      border-color: transparent;\n",
              "      border-right-color: var(--fill-color);\n",
              "    }\n",
              "    80% {\n",
              "      border-color: transparent;\n",
              "      border-right-color: var(--fill-color);\n",
              "      border-bottom-color: var(--fill-color);\n",
              "    }\n",
              "    90% {\n",
              "      border-color: transparent;\n",
              "      border-bottom-color: var(--fill-color);\n",
              "    }\n",
              "  }\n",
              "</style>\n",
              "\n",
              "  <script>\n",
              "    async function quickchart(key) {\n",
              "      const quickchartButtonEl =\n",
              "        document.querySelector('#' + key + ' button');\n",
              "      quickchartButtonEl.disabled = true;  // To prevent multiple clicks.\n",
              "      quickchartButtonEl.classList.add('colab-df-spinner');\n",
              "      try {\n",
              "        const charts = await google.colab.kernel.invokeFunction(\n",
              "            'suggestCharts', [key], {});\n",
              "      } catch (error) {\n",
              "        console.error('Error during call to suggestCharts:', error);\n",
              "      }\n",
              "      quickchartButtonEl.classList.remove('colab-df-spinner');\n",
              "      quickchartButtonEl.classList.add('colab-df-quickchart-complete');\n",
              "    }\n",
              "    (() => {\n",
              "      let quickchartButtonEl =\n",
              "        document.querySelector('#df-e0e10974-3ae9-4cb3-b696-c7f4e3ce507e button');\n",
              "      quickchartButtonEl.style.display =\n",
              "        google.colab.kernel.accessAllowed ? 'block' : 'none';\n",
              "    })();\n",
              "  </script>\n",
              "</div>\n",
              "\n",
              "    </div>\n",
              "  </div>\n"
            ],
            "application/vnd.google.colaboratory.intrinsic+json": {
              "type": "dataframe",
              "summary": "{\n  \"name\": \"pd\",\n  \"rows\": 5,\n  \"fields\": [\n    {\n      \"column\": \"Tokens\",\n      \"properties\": {\n        \"dtype\": \"object\",\n        \"semantic_type\": \"\",\n        \"description\": \"\"\n      }\n    }\n  ]\n}"
            }
          },
          "metadata": {},
          "execution_count": 87
        }
      ]
    },
    {
      "cell_type": "code",
      "source": [
        "# Define the context window size\n",
        "window_size = 5\n",
        "\n",
        "# Create training samples for skip-gram model\n",
        "training_samples = []\n",
        "for tokens in tokenized_text:\n",
        "    for i, target_word in enumerate(tokens):\n",
        "        context_words = []\n",
        "        for j in range(max(0, i - window_size), min(len(tokens), i + window_size + 1)):\n",
        "            if j != i:\n",
        "                context_words.append(tokens[j])\n",
        "        if context_words:\n",
        "            training_samples.append((context_words, target_word))\n",
        "\n",
        "# Display sample training samples\n",
        "for context, target in training_samples[:5]:\n",
        "    print(f\"Context: {context}, Target: {target}\")"
      ],
      "metadata": {
        "colab": {
          "base_uri": "https://localhost:8080/",
          "height": 104
        },
        "id": "QO_PTpsRZRiQ",
        "outputId": "4eef1511-8bb5-4c28-e885-230b880174d3"
      },
      "execution_count": null,
      "outputs": [
        {
          "output_type": "display_data",
          "data": {
            "text/plain": [
              "<IPython.core.display.HTML object>"
            ],
            "text/html": [
              "\n",
              "  <style>\n",
              "    pre {\n",
              "        white-space: pre-wrap;\n",
              "    }\n",
              "  </style>\n",
              "  "
            ]
          },
          "metadata": {}
        },
        {
          "output_type": "stream",
          "name": "stdout",
          "text": [
            "Context: ['اللَّهِ', 'الرَّحْمَـٰنِ', 'الرَّحِيمِ'], Target: بِسْمِ\n",
            "Context: ['بِسْمِ', 'الرَّحْمَـٰنِ', 'الرَّحِيمِ'], Target: اللَّهِ\n",
            "Context: ['بِسْمِ', 'اللَّهِ', 'الرَّحِيمِ'], Target: الرَّحْمَـٰنِ\n",
            "Context: ['بِسْمِ', 'اللَّهِ', 'الرَّحْمَـٰنِ'], Target: الرَّحِيمِ\n",
            "Context: ['لِلَّهِ', 'رَبِّ', 'الْعَـٰلَمِينَ'], Target: الْحَمْدُ\n"
          ]
        }
      ]
    },
    {
      "cell_type": "code",
      "source": [
        "# Train Word2Vec model\n",
        "word2vec_model = Word2Vec(sentences=tokenized_text, vector_size=100, window=5, min_count=1, sg=1)\n",
        "# Save the trained model\n",
        "word2vec_model.save(\"./word2vec_model.bin\")"
      ],
      "metadata": {
        "colab": {
          "base_uri": "https://localhost:8080/",
          "height": 17
        },
        "id": "8wq-peYschJK",
        "outputId": "7b31ee90-c05d-4a3e-e358-45a9c9faaf21"
      },
      "execution_count": null,
      "outputs": [
        {
          "output_type": "display_data",
          "data": {
            "text/plain": [
              "<IPython.core.display.HTML object>"
            ],
            "text/html": [
              "\n",
              "  <style>\n",
              "    pre {\n",
              "        white-space: pre-wrap;\n",
              "    }\n",
              "  </style>\n",
              "  "
            ]
          },
          "metadata": {}
        }
      ]
    },
    {
      "cell_type": "code",
      "source": [
        "X = [context for context, target in training_samples]\n",
        "y = [target for context, target in training_samples]\n",
        "\n",
        "print(X[:5])\n",
        "print(y[:5])\n",
        "\n",
        "print(len(X))\n",
        "print(len(y))"
      ],
      "metadata": {
        "colab": {
          "base_uri": "https://localhost:8080/",
          "height": 86
        },
        "id": "iZeYI8uvAnh1",
        "outputId": "1f62e4b0-4aa6-46fe-fa1d-d87c2982eedb"
      },
      "execution_count": null,
      "outputs": [
        {
          "output_type": "display_data",
          "data": {
            "text/plain": [
              "<IPython.core.display.HTML object>"
            ],
            "text/html": [
              "\n",
              "  <style>\n",
              "    pre {\n",
              "        white-space: pre-wrap;\n",
              "    }\n",
              "  </style>\n",
              "  "
            ]
          },
          "metadata": {}
        },
        {
          "output_type": "stream",
          "name": "stdout",
          "text": [
            "[['اللَّهِ', 'الرَّحْمَـٰنِ', 'الرَّحِيمِ'], ['بِسْمِ', 'الرَّحْمَـٰنِ', 'الرَّحِيمِ'], ['بِسْمِ', 'اللَّهِ', 'الرَّحِيمِ'], ['بِسْمِ', 'اللَّهِ', 'الرَّحْمَـٰنِ'], ['لِلَّهِ', 'رَبِّ', 'الْعَـٰلَمِينَ']]\n",
            "['بِسْمِ', 'اللَّهِ', 'الرَّحْمَـٰنِ', 'الرَّحِيمِ', 'الْحَمْدُ']\n",
            "6168\n",
            "6168\n"
          ]
        }
      ]
    },
    {
      "cell_type": "code",
      "source": [
        "# Building the vocabulary from both X and Y\n",
        "all_words = [word for context, target in training_samples for word in context + [target]]\n",
        "vocab = {word: i+1 for i, word in enumerate(set(all_words))}  # +1 to reserve 0 for padding\n",
        "vocab_size = len(vocab) + 1  # +1 for padding token\n",
        "word_to_ix = vocab  # For readability\n",
        "ix_to_word = {ix: word for word, ix in vocab.items()}  # For readability\n",
        "\n",
        "\n",
        "print(list(ix_to_word.keys())[:10])\n",
        "print(list(ix_to_word.values())[:10])\n",
        "print(vocab_size)"
      ],
      "metadata": {
        "colab": {
          "base_uri": "https://localhost:8080/",
          "height": 69
        },
        "id": "izmPXOJkCRwt",
        "outputId": "56e39444-3576-4dc3-d961-9722b502565f"
      },
      "execution_count": null,
      "outputs": [
        {
          "output_type": "display_data",
          "data": {
            "text/plain": [
              "<IPython.core.display.HTML object>"
            ],
            "text/html": [
              "\n",
              "  <style>\n",
              "    pre {\n",
              "        white-space: pre-wrap;\n",
              "    }\n",
              "  </style>\n",
              "  "
            ]
          },
          "metadata": {}
        },
        {
          "output_type": "stream",
          "name": "stdout",
          "text": [
            "[1, 2, 3, 4, 5, 6, 7, 8, 9, 10]\n",
            "['الْكِتَـٰبُ', 'قَرْضًا', 'فَاحْذَرُوهُ', 'اَمْوَٰتًۭا', 'قِبْلَتَكَ', 'كُلَّمَا', 'وَاِنَّهُۥ', 'كَمَا', 'عُقْدَةَ', 'تَيَمَّمُوا۟']\n",
            "2758\n"
          ]
        }
      ]
    },
    {
      "cell_type": "code",
      "source": [
        "# Define a custom dataset class for Quranic text data\n",
        "class QuranDataset(Dataset):\n",
        "    def __init__(self, X, Y, vocab):\n",
        "        self.X = X\n",
        "        self.Y = Y\n",
        "        self.vocab = vocab\n",
        "        self.max_len = max(len(context) for context in X)  # Update to get the max length of the context\n",
        "\n",
        "    def __len__(self):\n",
        "        return len(self.X)\n",
        "\n",
        "    def __getitem__(self, idx):\n",
        "        if isinstance(self.X[idx], str):  # Check if X[idx] is a string\n",
        "            X = [self.vocab[word] for word in self.X[idx].split()]\n",
        "        else:\n",
        "            X = [self.vocab[word] for word in self.X[idx]]  # If X[idx] is already a list\n",
        "        Y = self.vocab[self.Y[idx]]\n",
        "        X_padded = np.pad(X, (0, self.max_len - len(X)), constant_values=0)\n",
        "        return torch.tensor(X_padded, dtype=torch.long), torch.tensor(Y, dtype=torch.long)\n",
        "\n",
        "\n",
        "X_train, X_test, y_train, y_test = train_test_split(X, y, test_size=0.2, random_state=42)\n",
        "\n",
        "train_dataset = QuranDataset(X_train, y_train, vocab)\n",
        "test_dataset = QuranDataset(X_test, y_test, vocab)\n",
        "\n",
        "train_dataloader = DataLoader(train_dataset, batch_size=32, shuffle=True)\n",
        "test_dataloader = DataLoader(test_dataset, batch_size=32, shuffle=False)"
      ],
      "metadata": {
        "colab": {
          "base_uri": "https://localhost:8080/",
          "height": 17
        },
        "id": "JhCv8vLjhDML",
        "outputId": "f18640d0-d146-44b3-c44b-009d3717c5e0"
      },
      "execution_count": null,
      "outputs": [
        {
          "output_type": "display_data",
          "data": {
            "text/plain": [
              "<IPython.core.display.HTML object>"
            ],
            "text/html": [
              "\n",
              "  <style>\n",
              "    pre {\n",
              "        white-space: pre-wrap;\n",
              "    }\n",
              "  </style>\n",
              "  "
            ]
          },
          "metadata": {}
        }
      ]
    },
    {
      "cell_type": "code",
      "source": [
        "#tokenizer = BertTokenizer.from_pretrained('bert-base-uncased', do_lower_case=True)\n",
        "\n",
        "sequences = [\n",
        "    [vocab[word] for word in context + [target]]\n",
        "    for context, target in training_samples\n",
        "]\n",
        "\n",
        "# Pad sequences to the same length\n",
        "max_length = max(len(seq) for seq in sequences)\n",
        "padded_sequences = pad_sequences(sequences, maxlen=max_length, padding='post')\n",
        "input_ids = torch.tensor(padded_sequences)\n",
        "\n",
        "# Convert padded sequences to tensors\n",
        "tensor_sequences = torch.tensor(padded_sequences, dtype=torch.long)\n"
      ],
      "metadata": {
        "colab": {
          "base_uri": "https://localhost:8080/",
          "height": 17
        },
        "id": "ZhaOIcmODb1V",
        "outputId": "db775bba-4eef-4b81-d041-d00c225d1aef"
      },
      "execution_count": null,
      "outputs": [
        {
          "output_type": "display_data",
          "data": {
            "text/plain": [
              "<IPython.core.display.HTML object>"
            ],
            "text/html": [
              "\n",
              "  <style>\n",
              "    pre {\n",
              "        white-space: pre-wrap;\n",
              "    }\n",
              "  </style>\n",
              "  "
            ]
          },
          "metadata": {}
        }
      ]
    },
    {
      "cell_type": "code",
      "source": [
        "def initialize_weights(model):\n",
        "    if isinstance(model, nn.Linear):\n",
        "        nn.init.xavier_uniform_(model.weight)\n",
        "        if model.bias is not None:\n",
        "            nn.init.constant_(model.bias, 0)\n",
        "    elif isinstance(model, nn.Embedding):\n",
        "        nn.init.normal_(model.weight, mean=0, std=0.02)\n",
        "    elif isinstance(model, nn.LayerNorm):\n",
        "        nn.init.constant_(model.weight, 1)\n",
        "        nn.init.constant_(model.bias, 0)"
      ],
      "metadata": {
        "colab": {
          "base_uri": "https://localhost:8080/",
          "height": 17
        },
        "id": "Q1cOtLI4j9qC",
        "outputId": "fbfea091-776d-4fed-b529-ab14b4f2af89"
      },
      "execution_count": null,
      "outputs": [
        {
          "output_type": "display_data",
          "data": {
            "text/plain": [
              "<IPython.core.display.HTML object>"
            ],
            "text/html": [
              "\n",
              "  <style>\n",
              "    pre {\n",
              "        white-space: pre-wrap;\n",
              "    }\n",
              "  </style>\n",
              "  "
            ]
          },
          "metadata": {}
        }
      ]
    },
    {
      "cell_type": "code",
      "source": [
        "# Load the trained Word2Vec model\n",
        "word2vec_model_dir = \"./word2vec_model.bin\"\n",
        "word2vec_model = Word2Vec.load(word2vec_model_dir)"
      ],
      "metadata": {
        "colab": {
          "base_uri": "https://localhost:8080/",
          "height": 17
        },
        "id": "M_QTPTKBkAYi",
        "outputId": "abdb7d03-bef4-4dd6-8982-666550993f15"
      },
      "execution_count": null,
      "outputs": [
        {
          "output_type": "display_data",
          "data": {
            "text/plain": [
              "<IPython.core.display.HTML object>"
            ],
            "text/html": [
              "\n",
              "  <style>\n",
              "    pre {\n",
              "        white-space: pre-wrap;\n",
              "    }\n",
              "  </style>\n",
              "  "
            ]
          },
          "metadata": {}
        }
      ]
    },
    {
      "cell_type": "code",
      "source": [
        "class PositionalEncoding(nn.Module):\n",
        "    def __init__(self, d_model, max_len=5000):\n",
        "        super(PositionalEncoding, self).__init__()\n",
        "        self.d_model = d_model\n",
        "        pe = torch.zeros(max_len, d_model)\n",
        "        position = torch.arange(0, max_len, dtype=torch.float).unsqueeze(1)\n",
        "        div_term = torch.exp(torch.arange(0, d_model, 2).float() * (-math.log(10000.0) / d_model))\n",
        "        pe[:, 0::2] = torch.sin(position * div_term)\n",
        "        pe[:, 1::2] = torch.cos(position * div_term)\n",
        "        pe = pe.unsqueeze(0).transpose(0, 1)\n",
        "        self.register_buffer('pe', pe)\n",
        "\n",
        "    def forward(self, x):\n",
        "        max_len = x.size(1)\n",
        "        pe = self.pe[:, :max_len, :self.d_model]  # Slice along dimensions 1 and 2\n",
        "        x = x + pe\n",
        "        return x"
      ],
      "metadata": {
        "colab": {
          "base_uri": "https://localhost:8080/",
          "height": 17
        },
        "id": "KUnTLFUALkpp",
        "outputId": "c0179428-b959-4563-a760-5085337002c6"
      },
      "execution_count": null,
      "outputs": [
        {
          "output_type": "display_data",
          "data": {
            "text/plain": [
              "<IPython.core.display.HTML object>"
            ],
            "text/html": [
              "\n",
              "  <style>\n",
              "    pre {\n",
              "        white-space: pre-wrap;\n",
              "    }\n",
              "  </style>\n",
              "  "
            ]
          },
          "metadata": {}
        }
      ]
    },
    {
      "cell_type": "code",
      "source": [
        "class BERTLikeModel(nn.Module):\n",
        "    def __init__(self, word2vec_model, num_layers=6, embedding_dim=96, num_heads=12, ff_dim=3072, dropout=0.1):\n",
        "        super(BERTLikeModel, self).__init__()\n",
        "        self.embedding_dim = embedding_dim\n",
        "        self.num_heads = num_heads\n",
        "        self.num_layers = num_layers\n",
        "        self.pos_encoder = PositionalEncoding(embedding_dim)\n",
        "        # Ensure embedding dimension is divisible by the number of attention heads\n",
        "        assert self.embedding_dim % self.num_heads == 0, \"Embedding dimension must be divisible by the number of attention heads\"\n",
        "\n",
        "        # Initialize embedding layer\n",
        "        self.embedding = nn.Embedding.from_pretrained(torch.FloatTensor(word2vec_model.wv.vectors))\n",
        "\n",
        "        # Initialize positional encoding\n",
        "        self.pos_encoder = PositionalEncoding(embedding_dim)  # Add this line\n",
        "\n",
        "        # Initialize transformer encoder layers\n",
        "        self.encoder_layers = nn.ModuleList([\n",
        "            nn.TransformerEncoderLayer(d_model=self.embedding_dim, nhead=self.num_heads, dim_feedforward=ff_dim, dropout=dropout)\n",
        "            for _ in range(num_layers)\n",
        "        ])\n",
        "\n",
        "        # Initialize transformer encoder\n",
        "        self.encoder = nn.TransformerEncoder(self.encoder_layers, num_layers=num_layers)\n",
        "\n",
        "    def forward(self, input_ids):\n",
        "        embedded_input = self.embedding(input_ids)\n",
        "        embedded_input = self.pos_encoder(embedded_input)\n",
        "        embedded_input = embedded_input.transpose(0, 1)\n",
        "        encoded_output = self.encoder(embedded_input)\n",
        "        return encoded_output\n",
        "\n",
        "# Adjust the embedding dimension or number of attention heads\n",
        "num_layers = 6  # Example: Choose the number of layers\n",
        "embedding_dim = 96  # Example: Choose an embedding dimension divisible by 12\n",
        "num_heads = 12\n",
        "\n",
        "# Initialize your BERT-like model with appropriate arguments\n",
        "model = BERTLikeModel(word2vec_model, num_layers=num_layers, embedding_dim=embedding_dim, num_heads=num_heads)\n"
      ],
      "metadata": {
        "colab": {
          "base_uri": "https://localhost:8080/",
          "height": 17
        },
        "id": "bXd_6Oenfszp",
        "outputId": "54bac97d-3b08-433e-9891-1235620d4b6a"
      },
      "execution_count": null,
      "outputs": [
        {
          "output_type": "display_data",
          "data": {
            "text/plain": [
              "<IPython.core.display.HTML object>"
            ],
            "text/html": [
              "\n",
              "  <style>\n",
              "    pre {\n",
              "        white-space: pre-wrap;\n",
              "    }\n",
              "  </style>\n",
              "  "
            ]
          },
          "metadata": {}
        }
      ]
    },
    {
      "cell_type": "code",
      "source": [
        "# Define loss function and optimizer\n",
        "criterion = nn.CrossEntropyLoss()\n",
        "optimizer = optim.Adam(model.parameters(), lr=2e-5)\n",
        "\n",
        "# Define number of epochs\n",
        "num_epochs = 3\n",
        "\n",
        "# Move model to device (GPU if available)\n",
        "device = torch.device('cuda' if torch.cuda.is_available() else 'cpu')\n",
        "model.to(device)\n",
        "\n",
        "# Training loop\n",
        "for epoch in range(num_epochs):\n",
        "    model.train()  # Set model to training mode\n",
        "    total_loss = 0.0\n",
        "    progress_bar = tqdm(train_dataloader, desc=f'Epoch {epoch + 1}/{num_epochs}', leave=False)\n",
        "\n",
        "    for input_ids, labels in progress_bar:\n",
        "        # Move batch to device\n",
        "        input_ids = input_ids.to(device)\n",
        "        labels = labels.to(device)\n",
        "\n",
        "        # Zero the gradients\n",
        "        optimizer.zero_grad()\n",
        "\n",
        "        # Forward pass\n",
        "        outputs = model(input_ids)\n",
        "\n",
        "        # Flatten the outputs and labels\n",
        "        outputs = outputs.view(-1, outputs.shape[-1])\n",
        "        labels = labels.view(-1)\n",
        "\n",
        "        # Compute loss\n",
        "        loss = criterion(outputs, labels)\n",
        "\n",
        "        # Backward pass and optimization step\n",
        "        loss.backward()\n",
        "        optimizer.step()\n",
        "\n",
        "        total_loss += loss.item()\n",
        "\n",
        "        # Update progress bar\n",
        "        progress_bar.set_postfix({'Loss': total_loss / len(train_dataloader)})\n",
        "\n",
        "    # Print average loss for the epoch\n",
        "    print(f'Epoch {epoch + 1}/{num_epochs}, Average Loss: {total_loss / len(train_dataloader)}')\n",
        "\n",
        "print('Training complete!')\n"
      ],
      "metadata": {
        "colab": {
          "base_uri": "https://localhost:8080/",
          "height": 339
        },
        "id": "FzT4zLBPiO5z",
        "outputId": "be50eecd-3010-4d6b-d0df-b2b8d49ae8f6"
      },
      "execution_count": null,
      "outputs": [
        {
          "output_type": "display_data",
          "data": {
            "text/plain": [
              "<IPython.core.display.HTML object>"
            ],
            "text/html": [
              "\n",
              "  <style>\n",
              "    pre {\n",
              "        white-space: pre-wrap;\n",
              "    }\n",
              "  </style>\n",
              "  "
            ]
          },
          "metadata": {}
        },
        {
          "output_type": "stream",
          "name": "stderr",
          "text": []
        },
        {
          "output_type": "error",
          "ename": "RuntimeError",
          "evalue": "The size of tensor a (100) must match the size of tensor b (96) at non-singleton dimension 2",
          "traceback": [
            "\u001b[0;31m---------------------------------------------------------------------------\u001b[0m",
            "\u001b[0;31mRuntimeError\u001b[0m                              Traceback (most recent call last)",
            "\u001b[0;32m<ipython-input-195-1ba8c9186475>\u001b[0m in \u001b[0;36m<cell line: 13>\u001b[0;34m()\u001b[0m\n\u001b[1;32m     25\u001b[0m \u001b[0;34m\u001b[0m\u001b[0m\n\u001b[1;32m     26\u001b[0m         \u001b[0;31m# Forward pass\u001b[0m\u001b[0;34m\u001b[0m\u001b[0;34m\u001b[0m\u001b[0m\n\u001b[0;32m---> 27\u001b[0;31m         \u001b[0moutputs\u001b[0m \u001b[0;34m=\u001b[0m \u001b[0mmodel\u001b[0m\u001b[0;34m(\u001b[0m\u001b[0minput_ids\u001b[0m\u001b[0;34m)\u001b[0m\u001b[0;34m\u001b[0m\u001b[0;34m\u001b[0m\u001b[0m\n\u001b[0m\u001b[1;32m     28\u001b[0m \u001b[0;34m\u001b[0m\u001b[0m\n\u001b[1;32m     29\u001b[0m         \u001b[0;31m# Flatten the outputs and labels\u001b[0m\u001b[0;34m\u001b[0m\u001b[0;34m\u001b[0m\u001b[0m\n",
            "\u001b[0;32m/usr/local/lib/python3.10/dist-packages/torch/nn/modules/module.py\u001b[0m in \u001b[0;36m_wrapped_call_impl\u001b[0;34m(self, *args, **kwargs)\u001b[0m\n\u001b[1;32m   1509\u001b[0m             \u001b[0;32mreturn\u001b[0m \u001b[0mself\u001b[0m\u001b[0;34m.\u001b[0m\u001b[0m_compiled_call_impl\u001b[0m\u001b[0;34m(\u001b[0m\u001b[0;34m*\u001b[0m\u001b[0margs\u001b[0m\u001b[0;34m,\u001b[0m \u001b[0;34m**\u001b[0m\u001b[0mkwargs\u001b[0m\u001b[0;34m)\u001b[0m  \u001b[0;31m# type: ignore[misc]\u001b[0m\u001b[0;34m\u001b[0m\u001b[0;34m\u001b[0m\u001b[0m\n\u001b[1;32m   1510\u001b[0m         \u001b[0;32melse\u001b[0m\u001b[0;34m:\u001b[0m\u001b[0;34m\u001b[0m\u001b[0;34m\u001b[0m\u001b[0m\n\u001b[0;32m-> 1511\u001b[0;31m             \u001b[0;32mreturn\u001b[0m \u001b[0mself\u001b[0m\u001b[0;34m.\u001b[0m\u001b[0m_call_impl\u001b[0m\u001b[0;34m(\u001b[0m\u001b[0;34m*\u001b[0m\u001b[0margs\u001b[0m\u001b[0;34m,\u001b[0m \u001b[0;34m**\u001b[0m\u001b[0mkwargs\u001b[0m\u001b[0;34m)\u001b[0m\u001b[0;34m\u001b[0m\u001b[0;34m\u001b[0m\u001b[0m\n\u001b[0m\u001b[1;32m   1512\u001b[0m \u001b[0;34m\u001b[0m\u001b[0m\n\u001b[1;32m   1513\u001b[0m     \u001b[0;32mdef\u001b[0m \u001b[0m_call_impl\u001b[0m\u001b[0;34m(\u001b[0m\u001b[0mself\u001b[0m\u001b[0;34m,\u001b[0m \u001b[0;34m*\u001b[0m\u001b[0margs\u001b[0m\u001b[0;34m,\u001b[0m \u001b[0;34m**\u001b[0m\u001b[0mkwargs\u001b[0m\u001b[0;34m)\u001b[0m\u001b[0;34m:\u001b[0m\u001b[0;34m\u001b[0m\u001b[0;34m\u001b[0m\u001b[0m\n",
            "\u001b[0;32m/usr/local/lib/python3.10/dist-packages/torch/nn/modules/module.py\u001b[0m in \u001b[0;36m_call_impl\u001b[0;34m(self, *args, **kwargs)\u001b[0m\n\u001b[1;32m   1518\u001b[0m                 \u001b[0;32mor\u001b[0m \u001b[0m_global_backward_pre_hooks\u001b[0m \u001b[0;32mor\u001b[0m \u001b[0m_global_backward_hooks\u001b[0m\u001b[0;34m\u001b[0m\u001b[0;34m\u001b[0m\u001b[0m\n\u001b[1;32m   1519\u001b[0m                 or _global_forward_hooks or _global_forward_pre_hooks):\n\u001b[0;32m-> 1520\u001b[0;31m             \u001b[0;32mreturn\u001b[0m \u001b[0mforward_call\u001b[0m\u001b[0;34m(\u001b[0m\u001b[0;34m*\u001b[0m\u001b[0margs\u001b[0m\u001b[0;34m,\u001b[0m \u001b[0;34m**\u001b[0m\u001b[0mkwargs\u001b[0m\u001b[0;34m)\u001b[0m\u001b[0;34m\u001b[0m\u001b[0;34m\u001b[0m\u001b[0m\n\u001b[0m\u001b[1;32m   1521\u001b[0m \u001b[0;34m\u001b[0m\u001b[0m\n\u001b[1;32m   1522\u001b[0m         \u001b[0;32mtry\u001b[0m\u001b[0;34m:\u001b[0m\u001b[0;34m\u001b[0m\u001b[0;34m\u001b[0m\u001b[0m\n",
            "\u001b[0;32m<ipython-input-194-48200245e437>\u001b[0m in \u001b[0;36mforward\u001b[0;34m(self, input_ids)\u001b[0m\n\u001b[1;32m     26\u001b[0m     \u001b[0;32mdef\u001b[0m \u001b[0mforward\u001b[0m\u001b[0;34m(\u001b[0m\u001b[0mself\u001b[0m\u001b[0;34m,\u001b[0m \u001b[0minput_ids\u001b[0m\u001b[0;34m)\u001b[0m\u001b[0;34m:\u001b[0m\u001b[0;34m\u001b[0m\u001b[0;34m\u001b[0m\u001b[0m\n\u001b[1;32m     27\u001b[0m         \u001b[0membedded_input\u001b[0m \u001b[0;34m=\u001b[0m \u001b[0mself\u001b[0m\u001b[0;34m.\u001b[0m\u001b[0membedding\u001b[0m\u001b[0;34m(\u001b[0m\u001b[0minput_ids\u001b[0m\u001b[0;34m)\u001b[0m\u001b[0;34m\u001b[0m\u001b[0;34m\u001b[0m\u001b[0m\n\u001b[0;32m---> 28\u001b[0;31m         \u001b[0membedded_input\u001b[0m \u001b[0;34m=\u001b[0m \u001b[0mself\u001b[0m\u001b[0;34m.\u001b[0m\u001b[0mpos_encoder\u001b[0m\u001b[0;34m(\u001b[0m\u001b[0membedded_input\u001b[0m\u001b[0;34m)\u001b[0m\u001b[0;34m\u001b[0m\u001b[0;34m\u001b[0m\u001b[0m\n\u001b[0m\u001b[1;32m     29\u001b[0m         \u001b[0membedded_input\u001b[0m \u001b[0;34m=\u001b[0m \u001b[0membedded_input\u001b[0m\u001b[0;34m.\u001b[0m\u001b[0mtranspose\u001b[0m\u001b[0;34m(\u001b[0m\u001b[0;36m0\u001b[0m\u001b[0;34m,\u001b[0m \u001b[0;36m1\u001b[0m\u001b[0;34m)\u001b[0m\u001b[0;34m\u001b[0m\u001b[0;34m\u001b[0m\u001b[0m\n\u001b[1;32m     30\u001b[0m         \u001b[0mencoded_output\u001b[0m \u001b[0;34m=\u001b[0m \u001b[0mself\u001b[0m\u001b[0;34m.\u001b[0m\u001b[0mencoder\u001b[0m\u001b[0;34m(\u001b[0m\u001b[0membedded_input\u001b[0m\u001b[0;34m)\u001b[0m\u001b[0;34m\u001b[0m\u001b[0;34m\u001b[0m\u001b[0m\n",
            "\u001b[0;32m/usr/local/lib/python3.10/dist-packages/torch/nn/modules/module.py\u001b[0m in \u001b[0;36m_wrapped_call_impl\u001b[0;34m(self, *args, **kwargs)\u001b[0m\n\u001b[1;32m   1509\u001b[0m             \u001b[0;32mreturn\u001b[0m \u001b[0mself\u001b[0m\u001b[0;34m.\u001b[0m\u001b[0m_compiled_call_impl\u001b[0m\u001b[0;34m(\u001b[0m\u001b[0;34m*\u001b[0m\u001b[0margs\u001b[0m\u001b[0;34m,\u001b[0m \u001b[0;34m**\u001b[0m\u001b[0mkwargs\u001b[0m\u001b[0;34m)\u001b[0m  \u001b[0;31m# type: ignore[misc]\u001b[0m\u001b[0;34m\u001b[0m\u001b[0;34m\u001b[0m\u001b[0m\n\u001b[1;32m   1510\u001b[0m         \u001b[0;32melse\u001b[0m\u001b[0;34m:\u001b[0m\u001b[0;34m\u001b[0m\u001b[0;34m\u001b[0m\u001b[0m\n\u001b[0;32m-> 1511\u001b[0;31m             \u001b[0;32mreturn\u001b[0m \u001b[0mself\u001b[0m\u001b[0;34m.\u001b[0m\u001b[0m_call_impl\u001b[0m\u001b[0;34m(\u001b[0m\u001b[0;34m*\u001b[0m\u001b[0margs\u001b[0m\u001b[0;34m,\u001b[0m \u001b[0;34m**\u001b[0m\u001b[0mkwargs\u001b[0m\u001b[0;34m)\u001b[0m\u001b[0;34m\u001b[0m\u001b[0;34m\u001b[0m\u001b[0m\n\u001b[0m\u001b[1;32m   1512\u001b[0m \u001b[0;34m\u001b[0m\u001b[0m\n\u001b[1;32m   1513\u001b[0m     \u001b[0;32mdef\u001b[0m \u001b[0m_call_impl\u001b[0m\u001b[0;34m(\u001b[0m\u001b[0mself\u001b[0m\u001b[0;34m,\u001b[0m \u001b[0;34m*\u001b[0m\u001b[0margs\u001b[0m\u001b[0;34m,\u001b[0m \u001b[0;34m**\u001b[0m\u001b[0mkwargs\u001b[0m\u001b[0;34m)\u001b[0m\u001b[0;34m:\u001b[0m\u001b[0;34m\u001b[0m\u001b[0;34m\u001b[0m\u001b[0m\n",
            "\u001b[0;32m/usr/local/lib/python3.10/dist-packages/torch/nn/modules/module.py\u001b[0m in \u001b[0;36m_call_impl\u001b[0;34m(self, *args, **kwargs)\u001b[0m\n\u001b[1;32m   1518\u001b[0m                 \u001b[0;32mor\u001b[0m \u001b[0m_global_backward_pre_hooks\u001b[0m \u001b[0;32mor\u001b[0m \u001b[0m_global_backward_hooks\u001b[0m\u001b[0;34m\u001b[0m\u001b[0;34m\u001b[0m\u001b[0m\n\u001b[1;32m   1519\u001b[0m                 or _global_forward_hooks or _global_forward_pre_hooks):\n\u001b[0;32m-> 1520\u001b[0;31m             \u001b[0;32mreturn\u001b[0m \u001b[0mforward_call\u001b[0m\u001b[0;34m(\u001b[0m\u001b[0;34m*\u001b[0m\u001b[0margs\u001b[0m\u001b[0;34m,\u001b[0m \u001b[0;34m**\u001b[0m\u001b[0mkwargs\u001b[0m\u001b[0;34m)\u001b[0m\u001b[0;34m\u001b[0m\u001b[0;34m\u001b[0m\u001b[0m\n\u001b[0m\u001b[1;32m   1521\u001b[0m \u001b[0;34m\u001b[0m\u001b[0m\n\u001b[1;32m   1522\u001b[0m         \u001b[0;32mtry\u001b[0m\u001b[0;34m:\u001b[0m\u001b[0;34m\u001b[0m\u001b[0;34m\u001b[0m\u001b[0m\n",
            "\u001b[0;32m<ipython-input-193-bfc25c17de8f>\u001b[0m in \u001b[0;36mforward\u001b[0;34m(self, x)\u001b[0m\n\u001b[1;32m     14\u001b[0m         \u001b[0mmax_len\u001b[0m \u001b[0;34m=\u001b[0m \u001b[0mx\u001b[0m\u001b[0;34m.\u001b[0m\u001b[0msize\u001b[0m\u001b[0;34m(\u001b[0m\u001b[0;36m1\u001b[0m\u001b[0;34m)\u001b[0m\u001b[0;34m\u001b[0m\u001b[0;34m\u001b[0m\u001b[0m\n\u001b[1;32m     15\u001b[0m         \u001b[0mpe\u001b[0m \u001b[0;34m=\u001b[0m \u001b[0mself\u001b[0m\u001b[0;34m.\u001b[0m\u001b[0mpe\u001b[0m\u001b[0;34m[\u001b[0m\u001b[0;34m:\u001b[0m\u001b[0;34m,\u001b[0m \u001b[0;34m:\u001b[0m\u001b[0mmax_len\u001b[0m\u001b[0;34m,\u001b[0m \u001b[0;34m:\u001b[0m\u001b[0mself\u001b[0m\u001b[0;34m.\u001b[0m\u001b[0md_model\u001b[0m\u001b[0;34m]\u001b[0m  \u001b[0;31m# Slice along dimensions 1 and 2\u001b[0m\u001b[0;34m\u001b[0m\u001b[0;34m\u001b[0m\u001b[0m\n\u001b[0;32m---> 16\u001b[0;31m         \u001b[0mx\u001b[0m \u001b[0;34m=\u001b[0m \u001b[0mx\u001b[0m \u001b[0;34m+\u001b[0m \u001b[0mpe\u001b[0m\u001b[0;34m\u001b[0m\u001b[0;34m\u001b[0m\u001b[0m\n\u001b[0m\u001b[1;32m     17\u001b[0m         \u001b[0;32mreturn\u001b[0m \u001b[0mx\u001b[0m\u001b[0;34m\u001b[0m\u001b[0;34m\u001b[0m\u001b[0m\n",
            "\u001b[0;31mRuntimeError\u001b[0m: The size of tensor a (100) must match the size of tensor b (96) at non-singleton dimension 2"
          ]
        }
      ]
    }
  ]
}
